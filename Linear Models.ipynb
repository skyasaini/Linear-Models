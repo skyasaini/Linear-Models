{
 "cells": [
  {
   "cell_type": "markdown",
   "metadata": {},
   "source": [
    "# Linear Regression "
   ]
  },
  {
   "cell_type": "code",
   "execution_count": 2,
   "metadata": {},
   "outputs": [],
   "source": [
    "# import os\n",
    "# # explor the current working directory\n",
    "# print(os.getcwd())\n",
    "# # Change the current directory to specified location.\n",
    "# os.chdir(\"E:\\\\Data Science\" )\n",
    "# os.getcwd()\n",
    "# %pwd"
   ]
  },
  {
   "cell_type": "code",
   "execution_count": 3,
   "metadata": {},
   "outputs": [],
   "source": [
    "import pandas as pd \n",
    "import numpy as np"
   ]
  },
  {
   "cell_type": "code",
   "execution_count": 4,
   "metadata": {},
   "outputs": [],
   "source": [
    "# Reading the Data set\n",
    "train_file=r'loan_data_train.csv'\n",
    "test_file=r'loan_data_test.csv'\n",
    "ld_train=pd.read_csv(train_file)\n",
    "ld_test=pd.read_csv(test_file)               "
   ]
  },
  {
   "cell_type": "code",
   "execution_count": 5,
   "metadata": {},
   "outputs": [
    {
     "data": {
      "text/html": [
       "<div>\n",
       "<style scoped>\n",
       "    .dataframe tbody tr th:only-of-type {\n",
       "        vertical-align: middle;\n",
       "    }\n",
       "\n",
       "    .dataframe tbody tr th {\n",
       "        vertical-align: top;\n",
       "    }\n",
       "\n",
       "    .dataframe thead th {\n",
       "        text-align: right;\n",
       "    }\n",
       "</style>\n",
       "<table border=\"1\" class=\"dataframe\">\n",
       "  <thead>\n",
       "    <tr style=\"text-align: right;\">\n",
       "      <th></th>\n",
       "      <th>ID</th>\n",
       "      <th>Amount.Requested</th>\n",
       "      <th>Amount.Funded.By.Investors</th>\n",
       "      <th>Loan.Length</th>\n",
       "      <th>Loan.Purpose</th>\n",
       "      <th>Debt.To.Income.Ratio</th>\n",
       "      <th>State</th>\n",
       "      <th>Home.Ownership</th>\n",
       "      <th>Monthly.Income</th>\n",
       "      <th>FICO.Range</th>\n",
       "      <th>Open.CREDIT.Lines</th>\n",
       "      <th>Revolving.CREDIT.Balance</th>\n",
       "      <th>Inquiries.in.the.Last.6.Months</th>\n",
       "      <th>Employment.Length</th>\n",
       "    </tr>\n",
       "  </thead>\n",
       "  <tbody>\n",
       "    <tr>\n",
       "      <td>0</td>\n",
       "      <td>20093</td>\n",
       "      <td>5000</td>\n",
       "      <td>5000</td>\n",
       "      <td>60 months</td>\n",
       "      <td>moving</td>\n",
       "      <td>12.59%</td>\n",
       "      <td>NY</td>\n",
       "      <td>RENT</td>\n",
       "      <td>4416.67</td>\n",
       "      <td>690-694</td>\n",
       "      <td>13</td>\n",
       "      <td>7686</td>\n",
       "      <td>0</td>\n",
       "      <td>&lt; 1 year</td>\n",
       "    </tr>\n",
       "    <tr>\n",
       "      <td>1</td>\n",
       "      <td>62445</td>\n",
       "      <td>18000</td>\n",
       "      <td>18000</td>\n",
       "      <td>60 months</td>\n",
       "      <td>debt_consolidation</td>\n",
       "      <td>4.93%</td>\n",
       "      <td>CA</td>\n",
       "      <td>RENT</td>\n",
       "      <td>5258.50</td>\n",
       "      <td>710-714</td>\n",
       "      <td>6</td>\n",
       "      <td>11596</td>\n",
       "      <td>0</td>\n",
       "      <td>10+ years</td>\n",
       "    </tr>\n",
       "    <tr>\n",
       "      <td>2</td>\n",
       "      <td>65248</td>\n",
       "      <td>7200</td>\n",
       "      <td>7200</td>\n",
       "      <td>60 months</td>\n",
       "      <td>debt_consolidation</td>\n",
       "      <td>25.16%</td>\n",
       "      <td>LA</td>\n",
       "      <td>MORTGAGE</td>\n",
       "      <td>3750.00</td>\n",
       "      <td>750-754</td>\n",
       "      <td>13</td>\n",
       "      <td>7283</td>\n",
       "      <td>0</td>\n",
       "      <td>6 years</td>\n",
       "    </tr>\n",
       "    <tr>\n",
       "      <td>3</td>\n",
       "      <td>81822</td>\n",
       "      <td>7200</td>\n",
       "      <td>7200</td>\n",
       "      <td>36 months</td>\n",
       "      <td>debt_consolidation</td>\n",
       "      <td>17.27%</td>\n",
       "      <td>NY</td>\n",
       "      <td>MORTGAGE</td>\n",
       "      <td>3416.67</td>\n",
       "      <td>790-794</td>\n",
       "      <td>14</td>\n",
       "      <td>4838</td>\n",
       "      <td>0</td>\n",
       "      <td>10+ years</td>\n",
       "    </tr>\n",
       "    <tr>\n",
       "      <td>4</td>\n",
       "      <td>57923</td>\n",
       "      <td>22000</td>\n",
       "      <td>22000</td>\n",
       "      <td>60 months</td>\n",
       "      <td>debt_consolidation</td>\n",
       "      <td>18.28%</td>\n",
       "      <td>MI</td>\n",
       "      <td>MORTGAGE</td>\n",
       "      <td>6083.33</td>\n",
       "      <td>720-724</td>\n",
       "      <td>9</td>\n",
       "      <td>20181</td>\n",
       "      <td>0</td>\n",
       "      <td>8 years</td>\n",
       "    </tr>\n",
       "  </tbody>\n",
       "</table>\n",
       "</div>"
      ],
      "text/plain": [
       "      ID  Amount.Requested Amount.Funded.By.Investors Loan.Length  \\\n",
       "0  20093              5000                       5000   60 months   \n",
       "1  62445             18000                      18000   60 months   \n",
       "2  65248              7200                       7200   60 months   \n",
       "3  81822              7200                       7200   36 months   \n",
       "4  57923             22000                      22000   60 months   \n",
       "\n",
       "         Loan.Purpose Debt.To.Income.Ratio State Home.Ownership  \\\n",
       "0              moving               12.59%    NY           RENT   \n",
       "1  debt_consolidation                4.93%    CA           RENT   \n",
       "2  debt_consolidation               25.16%    LA       MORTGAGE   \n",
       "3  debt_consolidation               17.27%    NY       MORTGAGE   \n",
       "4  debt_consolidation               18.28%    MI       MORTGAGE   \n",
       "\n",
       "   Monthly.Income FICO.Range Open.CREDIT.Lines  Revolving.CREDIT.Balance  \\\n",
       "0         4416.67    690-694                13                      7686   \n",
       "1         5258.50    710-714                 6                     11596   \n",
       "2         3750.00    750-754                13                      7283   \n",
       "3         3416.67    790-794                14                      4838   \n",
       "4         6083.33    720-724                 9                     20181   \n",
       "\n",
       "   Inquiries.in.the.Last.6.Months Employment.Length  \n",
       "0                               0          < 1 year  \n",
       "1                               0         10+ years  \n",
       "2                               0           6 years  \n",
       "3                               0         10+ years  \n",
       "4                               0           8 years  "
      ]
     },
     "execution_count": 5,
     "metadata": {},
     "output_type": "execute_result"
    }
   ],
   "source": [
    "# First 5 Records\n",
    "ld_test.head()\n"
   ]
  },
  {
   "cell_type": "code",
   "execution_count": 6,
   "metadata": {},
   "outputs": [
    {
     "data": {
      "text/html": [
       "<div>\n",
       "<style scoped>\n",
       "    .dataframe tbody tr th:only-of-type {\n",
       "        vertical-align: middle;\n",
       "    }\n",
       "\n",
       "    .dataframe tbody tr th {\n",
       "        vertical-align: top;\n",
       "    }\n",
       "\n",
       "    .dataframe thead th {\n",
       "        text-align: right;\n",
       "    }\n",
       "</style>\n",
       "<table border=\"1\" class=\"dataframe\">\n",
       "  <thead>\n",
       "    <tr style=\"text-align: right;\">\n",
       "      <th></th>\n",
       "      <th>ID</th>\n",
       "      <th>Amount.Requested</th>\n",
       "      <th>Amount.Funded.By.Investors</th>\n",
       "      <th>Interest.Rate</th>\n",
       "      <th>Loan.Length</th>\n",
       "      <th>Loan.Purpose</th>\n",
       "      <th>Debt.To.Income.Ratio</th>\n",
       "      <th>State</th>\n",
       "      <th>Home.Ownership</th>\n",
       "      <th>Monthly.Income</th>\n",
       "      <th>FICO.Range</th>\n",
       "      <th>Open.CREDIT.Lines</th>\n",
       "      <th>Revolving.CREDIT.Balance</th>\n",
       "      <th>Inquiries.in.the.Last.6.Months</th>\n",
       "      <th>Employment.Length</th>\n",
       "    </tr>\n",
       "  </thead>\n",
       "  <tbody>\n",
       "    <tr>\n",
       "      <td>0</td>\n",
       "      <td>79542.0</td>\n",
       "      <td>25000</td>\n",
       "      <td>25000</td>\n",
       "      <td>18.49%</td>\n",
       "      <td>60 months</td>\n",
       "      <td>debt_consolidation</td>\n",
       "      <td>27.56%</td>\n",
       "      <td>VA</td>\n",
       "      <td>MORTGAGE</td>\n",
       "      <td>8606.56</td>\n",
       "      <td>720-724</td>\n",
       "      <td>11</td>\n",
       "      <td>15210</td>\n",
       "      <td>3.0</td>\n",
       "      <td>5 years</td>\n",
       "    </tr>\n",
       "    <tr>\n",
       "      <td>1</td>\n",
       "      <td>75473.0</td>\n",
       "      <td>19750</td>\n",
       "      <td>19750</td>\n",
       "      <td>17.27%</td>\n",
       "      <td>60 months</td>\n",
       "      <td>debt_consolidation</td>\n",
       "      <td>13.39%</td>\n",
       "      <td>NY</td>\n",
       "      <td>MORTGAGE</td>\n",
       "      <td>6737.50</td>\n",
       "      <td>710-714</td>\n",
       "      <td>14</td>\n",
       "      <td>19070</td>\n",
       "      <td>3.0</td>\n",
       "      <td>4 years</td>\n",
       "    </tr>\n",
       "    <tr>\n",
       "      <td>2</td>\n",
       "      <td>67265.0</td>\n",
       "      <td>2100</td>\n",
       "      <td>2100</td>\n",
       "      <td>14.33%</td>\n",
       "      <td>36 months</td>\n",
       "      <td>major_purchase</td>\n",
       "      <td>3.50%</td>\n",
       "      <td>LA</td>\n",
       "      <td>OWN</td>\n",
       "      <td>1000.00</td>\n",
       "      <td>690-694</td>\n",
       "      <td>13</td>\n",
       "      <td>893</td>\n",
       "      <td>1.0</td>\n",
       "      <td>&lt; 1 year</td>\n",
       "    </tr>\n",
       "    <tr>\n",
       "      <td>3</td>\n",
       "      <td>80167.0</td>\n",
       "      <td>28000</td>\n",
       "      <td>28000</td>\n",
       "      <td>16.29%</td>\n",
       "      <td>36 months</td>\n",
       "      <td>credit_card</td>\n",
       "      <td>19.62%</td>\n",
       "      <td>NV</td>\n",
       "      <td>MORTGAGE</td>\n",
       "      <td>7083.33</td>\n",
       "      <td>710-714</td>\n",
       "      <td>12</td>\n",
       "      <td>38194</td>\n",
       "      <td>1.0</td>\n",
       "      <td>10+ years</td>\n",
       "    </tr>\n",
       "    <tr>\n",
       "      <td>4</td>\n",
       "      <td>17240.0</td>\n",
       "      <td>24250</td>\n",
       "      <td>17431.82</td>\n",
       "      <td>12.23%</td>\n",
       "      <td>60 months</td>\n",
       "      <td>credit_card</td>\n",
       "      <td>23.79%</td>\n",
       "      <td>OH</td>\n",
       "      <td>MORTGAGE</td>\n",
       "      <td>5833.33</td>\n",
       "      <td>730-734</td>\n",
       "      <td>6</td>\n",
       "      <td>31061</td>\n",
       "      <td>2.0</td>\n",
       "      <td>10+ years</td>\n",
       "    </tr>\n",
       "  </tbody>\n",
       "</table>\n",
       "</div>"
      ],
      "text/plain": [
       "        ID Amount.Requested Amount.Funded.By.Investors Interest.Rate  \\\n",
       "0  79542.0            25000                      25000        18.49%   \n",
       "1  75473.0            19750                      19750        17.27%   \n",
       "2  67265.0             2100                       2100        14.33%   \n",
       "3  80167.0            28000                      28000        16.29%   \n",
       "4  17240.0            24250                   17431.82        12.23%   \n",
       "\n",
       "  Loan.Length        Loan.Purpose Debt.To.Income.Ratio State Home.Ownership  \\\n",
       "0   60 months  debt_consolidation               27.56%    VA       MORTGAGE   \n",
       "1   60 months  debt_consolidation               13.39%    NY       MORTGAGE   \n",
       "2   36 months      major_purchase                3.50%    LA            OWN   \n",
       "3   36 months         credit_card               19.62%    NV       MORTGAGE   \n",
       "4   60 months         credit_card               23.79%    OH       MORTGAGE   \n",
       "\n",
       "   Monthly.Income FICO.Range Open.CREDIT.Lines Revolving.CREDIT.Balance  \\\n",
       "0         8606.56    720-724                11                    15210   \n",
       "1         6737.50    710-714                14                    19070   \n",
       "2         1000.00    690-694                13                      893   \n",
       "3         7083.33    710-714                12                    38194   \n",
       "4         5833.33    730-734                 6                    31061   \n",
       "\n",
       "   Inquiries.in.the.Last.6.Months Employment.Length  \n",
       "0                             3.0           5 years  \n",
       "1                             3.0           4 years  \n",
       "2                             1.0          < 1 year  \n",
       "3                             1.0         10+ years  \n",
       "4                             2.0         10+ years  "
      ]
     },
     "execution_count": 6,
     "metadata": {},
     "output_type": "execute_result"
    }
   ],
   "source": [
    "ld_train.head()"
   ]
  },
  {
   "cell_type": "code",
   "execution_count": 7,
   "metadata": {},
   "outputs": [],
   "source": [
    "# lets combine the data for data prep\n",
    "\n",
    "ld_test['Interest.Rate']=np.nan   #  Adding Taget Variable in Test Data for Data Preparation\n",
    "ld_train['data']='train'  # Adding Marking column in Data set , so that once we finished the marking we can diffeentiate \n",
    "                         # between Test and Train data\n",
    "ld_test['data']='test'\n",
    "ld_test=ld_test[ld_train.columns] ## To make the column ordering same\n",
    "ld_all=pd.concat([ld_train,ld_test],axis=0) # Row by Row Concat"
   ]
  },
  {
   "cell_type": "code",
   "execution_count": 8,
   "metadata": {},
   "outputs": [
    {
     "data": {
      "text/html": [
       "<div>\n",
       "<style scoped>\n",
       "    .dataframe tbody tr th:only-of-type {\n",
       "        vertical-align: middle;\n",
       "    }\n",
       "\n",
       "    .dataframe tbody tr th {\n",
       "        vertical-align: top;\n",
       "    }\n",
       "\n",
       "    .dataframe thead th {\n",
       "        text-align: right;\n",
       "    }\n",
       "</style>\n",
       "<table border=\"1\" class=\"dataframe\">\n",
       "  <thead>\n",
       "    <tr style=\"text-align: right;\">\n",
       "      <th></th>\n",
       "      <th>ID</th>\n",
       "      <th>Amount.Requested</th>\n",
       "      <th>Amount.Funded.By.Investors</th>\n",
       "      <th>Interest.Rate</th>\n",
       "      <th>Loan.Length</th>\n",
       "      <th>Loan.Purpose</th>\n",
       "      <th>Debt.To.Income.Ratio</th>\n",
       "      <th>State</th>\n",
       "      <th>Home.Ownership</th>\n",
       "      <th>Monthly.Income</th>\n",
       "      <th>FICO.Range</th>\n",
       "      <th>Open.CREDIT.Lines</th>\n",
       "      <th>Revolving.CREDIT.Balance</th>\n",
       "      <th>Inquiries.in.the.Last.6.Months</th>\n",
       "      <th>Employment.Length</th>\n",
       "      <th>data</th>\n",
       "    </tr>\n",
       "  </thead>\n",
       "  <tbody>\n",
       "    <tr>\n",
       "      <td>0</td>\n",
       "      <td>79542.0</td>\n",
       "      <td>25000</td>\n",
       "      <td>25000</td>\n",
       "      <td>18.49%</td>\n",
       "      <td>60 months</td>\n",
       "      <td>debt_consolidation</td>\n",
       "      <td>27.56%</td>\n",
       "      <td>VA</td>\n",
       "      <td>MORTGAGE</td>\n",
       "      <td>8606.56</td>\n",
       "      <td>720-724</td>\n",
       "      <td>11</td>\n",
       "      <td>15210</td>\n",
       "      <td>3.0</td>\n",
       "      <td>5 years</td>\n",
       "      <td>train</td>\n",
       "    </tr>\n",
       "    <tr>\n",
       "      <td>1</td>\n",
       "      <td>75473.0</td>\n",
       "      <td>19750</td>\n",
       "      <td>19750</td>\n",
       "      <td>17.27%</td>\n",
       "      <td>60 months</td>\n",
       "      <td>debt_consolidation</td>\n",
       "      <td>13.39%</td>\n",
       "      <td>NY</td>\n",
       "      <td>MORTGAGE</td>\n",
       "      <td>6737.50</td>\n",
       "      <td>710-714</td>\n",
       "      <td>14</td>\n",
       "      <td>19070</td>\n",
       "      <td>3.0</td>\n",
       "      <td>4 years</td>\n",
       "      <td>train</td>\n",
       "    </tr>\n",
       "    <tr>\n",
       "      <td>2</td>\n",
       "      <td>67265.0</td>\n",
       "      <td>2100</td>\n",
       "      <td>2100</td>\n",
       "      <td>14.33%</td>\n",
       "      <td>36 months</td>\n",
       "      <td>major_purchase</td>\n",
       "      <td>3.50%</td>\n",
       "      <td>LA</td>\n",
       "      <td>OWN</td>\n",
       "      <td>1000.00</td>\n",
       "      <td>690-694</td>\n",
       "      <td>13</td>\n",
       "      <td>893</td>\n",
       "      <td>1.0</td>\n",
       "      <td>&lt; 1 year</td>\n",
       "      <td>train</td>\n",
       "    </tr>\n",
       "    <tr>\n",
       "      <td>3</td>\n",
       "      <td>80167.0</td>\n",
       "      <td>28000</td>\n",
       "      <td>28000</td>\n",
       "      <td>16.29%</td>\n",
       "      <td>36 months</td>\n",
       "      <td>credit_card</td>\n",
       "      <td>19.62%</td>\n",
       "      <td>NV</td>\n",
       "      <td>MORTGAGE</td>\n",
       "      <td>7083.33</td>\n",
       "      <td>710-714</td>\n",
       "      <td>12</td>\n",
       "      <td>38194</td>\n",
       "      <td>1.0</td>\n",
       "      <td>10+ years</td>\n",
       "      <td>train</td>\n",
       "    </tr>\n",
       "    <tr>\n",
       "      <td>4</td>\n",
       "      <td>17240.0</td>\n",
       "      <td>24250</td>\n",
       "      <td>17431.82</td>\n",
       "      <td>12.23%</td>\n",
       "      <td>60 months</td>\n",
       "      <td>credit_card</td>\n",
       "      <td>23.79%</td>\n",
       "      <td>OH</td>\n",
       "      <td>MORTGAGE</td>\n",
       "      <td>5833.33</td>\n",
       "      <td>730-734</td>\n",
       "      <td>6</td>\n",
       "      <td>31061</td>\n",
       "      <td>2.0</td>\n",
       "      <td>10+ years</td>\n",
       "      <td>train</td>\n",
       "    </tr>\n",
       "  </tbody>\n",
       "</table>\n",
       "</div>"
      ],
      "text/plain": [
       "        ID Amount.Requested Amount.Funded.By.Investors Interest.Rate  \\\n",
       "0  79542.0            25000                      25000        18.49%   \n",
       "1  75473.0            19750                      19750        17.27%   \n",
       "2  67265.0             2100                       2100        14.33%   \n",
       "3  80167.0            28000                      28000        16.29%   \n",
       "4  17240.0            24250                   17431.82        12.23%   \n",
       "\n",
       "  Loan.Length        Loan.Purpose Debt.To.Income.Ratio State Home.Ownership  \\\n",
       "0   60 months  debt_consolidation               27.56%    VA       MORTGAGE   \n",
       "1   60 months  debt_consolidation               13.39%    NY       MORTGAGE   \n",
       "2   36 months      major_purchase                3.50%    LA            OWN   \n",
       "3   36 months         credit_card               19.62%    NV       MORTGAGE   \n",
       "4   60 months         credit_card               23.79%    OH       MORTGAGE   \n",
       "\n",
       "   Monthly.Income FICO.Range Open.CREDIT.Lines Revolving.CREDIT.Balance  \\\n",
       "0         8606.56    720-724                11                    15210   \n",
       "1         6737.50    710-714                14                    19070   \n",
       "2         1000.00    690-694                13                      893   \n",
       "3         7083.33    710-714                12                    38194   \n",
       "4         5833.33    730-734                 6                    31061   \n",
       "\n",
       "   Inquiries.in.the.Last.6.Months Employment.Length   data  \n",
       "0                             3.0           5 years  train  \n",
       "1                             3.0           4 years  train  \n",
       "2                             1.0          < 1 year  train  \n",
       "3                             1.0         10+ years  train  \n",
       "4                             2.0         10+ years  train  "
      ]
     },
     "execution_count": 8,
     "metadata": {},
     "output_type": "execute_result"
    }
   ],
   "source": [
    "# Let \n",
    "ld_all.head()\n"
   ]
  },
  {
   "cell_type": "code",
   "execution_count": 8,
   "metadata": {},
   "outputs": [
    {
     "data": {
      "text/plain": [
       "ID                                float64\n",
       "Amount.Requested                   object\n",
       "Amount.Funded.By.Investors         object\n",
       "Interest.Rate                      object\n",
       "Loan.Length                        object\n",
       "Loan.Purpose                       object\n",
       "Debt.To.Income.Ratio               object\n",
       "State                              object\n",
       "Home.Ownership                     object\n",
       "Monthly.Income                    float64\n",
       "FICO.Range                         object\n",
       "Open.CREDIT.Lines                  object\n",
       "Revolving.CREDIT.Balance           object\n",
       "Inquiries.in.the.Last.6.Months    float64\n",
       "Employment.Length                  object\n",
       "data                               object\n",
       "dtype: object"
      ]
     },
     "execution_count": 8,
     "metadata": {},
     "output_type": "execute_result"
    }
   ],
   "source": [
    "ld_all.dtypes"
   ]
  },
  {
   "cell_type": "code",
   "execution_count": 9,
   "metadata": {},
   "outputs": [],
   "source": [
    "# ID,Amount.Funded.By.Investors : drop \n",
    "# Interest Rate , Debt to income ratio : remove % and then to numeric\n",
    "# Amount.Requested , 'Open.CREDIT.Lines','Revolving.CREDIT.Balance': convert it to numeric \n",
    "# FICO.Range : replace it by a numeric column which is average of the range\n",
    "# Employment Length : convert to number\n",
    "# Loan Lenth, Loan Purpose , State , Home ownership: dummies for categories with good occurence rate"
   ]
  },
  {
   "cell_type": "code",
   "execution_count": 10,
   "metadata": {},
   "outputs": [],
   "source": [
    "# ID,Amount.Funded.By.Investors : drop \n",
    "ld_all.drop(['ID','Amount.Funded.By.Investors'],axis=1,inplace=True)"
   ]
  },
  {
   "cell_type": "code",
   "execution_count": 11,
   "metadata": {},
   "outputs": [],
   "source": [
    "# Interest Rate , Debt to income ratio : remove % and then to numeric\n",
    "\n",
    "# Notice that to apply string function on pandas data frame columns you need to str attribute\n",
    "for col in ['Interest.Rate','Debt.To.Income.Ratio']:\n",
    "    ld_all[col]=ld_all[col].str.replace(\"%\",\"\")"
   ]
  },
  {
   "cell_type": "code",
   "execution_count": 12,
   "metadata": {},
   "outputs": [],
   "source": [
    "# Amount.Requested ,Interest Rate , Debt to income ratio, 'Open.CREDIT.Lines','Revolving.CREDIT.Balance': convert it to numeric\n",
    "for col in ['Amount.Requested', 'Interest.Rate','Debt.To.Income.Ratio',\n",
    "            'Open.CREDIT.Lines','Revolving.CREDIT.Balance']:\n",
    "    ld_all[col]=pd.to_numeric(ld_all[col],errors='coerce')\n",
    "    "
   ]
  },
  {
   "cell_type": "code",
   "execution_count": 13,
   "metadata": {},
   "outputs": [
    {
     "name": "stdout",
     "output_type": "stream",
     "text": [
      "<class 'pandas.core.frame.DataFrame'>\n",
      "-----------\n",
      "RangeIndex(start=0, stop=2, step=1)\n",
      "-----------\n",
      "Int64Index([  0,   1,   2,   3,   4,   5,   6,   7,   8,   9,\n",
      "            ...\n",
      "            290, 291, 292, 293, 294, 295, 296, 297, 298, 299],\n",
      "           dtype='int64', length=2500)\n",
      "-----------\n",
      "(2500, 2)\n"
     ]
    },
    {
     "data": {
      "text/plain": [
       "Int64Index([  0,   1,   2,   3,   4,   5,   6,   7,   8,   9,\n",
       "            ...\n",
       "            290, 291, 292, 293, 294, 295, 296, 297, 298, 299],\n",
       "           dtype='int64', length=2500)"
      ]
     },
     "execution_count": 13,
     "metadata": {},
     "output_type": "execute_result"
    }
   ],
   "source": [
    "print(type(ld_all['FICO.Range'].str.split(\"-\",expand=True).astype(float)))\n",
    "print(\"-----------\")\n",
    "print(ld_all['FICO.Range'].str.split(\"-\",expand=True).astype(float).columns)\n",
    "print(\"-----------\")\n",
    "print(ld_all['FICO.Range'].str.split(\"-\",expand=True).astype(float).index)\n",
    "print(\"-----------\")\n",
    "print(ld_all['FICO.Range'].str.split(\"-\",expand=True).astype(float).shape) \n",
    "ld_all['FICO.Range'].str.split(\"-\",expand=True).astype(float).index"
   ]
  },
  {
   "cell_type": "code",
   "execution_count": 14,
   "metadata": {},
   "outputs": [],
   "source": [
    "# FICO.Range : replace it by a numeric column which is average of the range\n",
    "\n",
    "k=ld_all['FICO.Range'].str.split(\"-\",expand=True).astype(float)\n",
    "\n",
    "ld_all['fico']=0.5*(k[0]+k[1])\n",
    "\n",
    "del ld_all['FICO.Range']\n",
    "\n"
   ]
  },
  {
   "cell_type": "code",
   "execution_count": 15,
   "metadata": {},
   "outputs": [
    {
     "data": {
      "text/plain": [
       "Index(['Amount.Requested', 'Interest.Rate', 'Loan.Length', 'Loan.Purpose',\n",
       "       'Debt.To.Income.Ratio', 'State', 'Home.Ownership', 'Monthly.Income',\n",
       "       'Open.CREDIT.Lines', 'Revolving.CREDIT.Balance',\n",
       "       'Inquiries.in.the.Last.6.Months', 'Employment.Length', 'data', 'fico'],\n",
       "      dtype='object')"
      ]
     },
     "execution_count": 15,
     "metadata": {},
     "output_type": "execute_result"
    }
   ],
   "source": [
    "ld_all.columns"
   ]
  },
  {
   "cell_type": "code",
   "execution_count": 16,
   "metadata": {},
   "outputs": [
    {
     "data": {
      "text/plain": [
       "2422"
      ]
     },
     "execution_count": 16,
     "metadata": {},
     "output_type": "execute_result"
    }
   ],
   "source": [
    "# print(ld_all.shape)\n",
    "# # Gives all category counts ,  equivalent to R Table function\n",
    "# print(ld_all['Employment.Length'].value_counts.sum())\n",
    "ld_all['Employment.Length'].value_counts(dropna=True).sum()\n",
    "# #ld_all['Employment.Length'])"
   ]
  },
  {
   "cell_type": "code",
   "execution_count": 17,
   "metadata": {},
   "outputs": [
    {
     "data": {
      "text/plain": [
       "float"
      ]
     },
     "execution_count": 17,
     "metadata": {},
     "output_type": "execute_result"
    }
   ],
   "source": [
    "type(np.nan)"
   ]
  },
  {
   "cell_type": "code",
   "execution_count": 18,
   "metadata": {},
   "outputs": [],
   "source": [
    "# type(ld_all['Employment.Length']) #.str)"
   ]
  },
  {
   "cell_type": "code",
   "execution_count": 19,
   "metadata": {},
   "outputs": [],
   "source": [
    "# Employment Length : convert to number\n",
    "# Noice that to apply string function on pandas data frame columns you need to str attributet\n",
    "ld_all['Employment.Length']=ld_all['Employment.Length'].str.replace('years',\"\")\n",
    "\n",
    "ld_all['Employment.Length']=ld_all['Employment.Length'].str.replace('year',\"\")\n",
    "\n",
    "ld_all['Employment.Length']=np.where(ld_all['Employment.Length'].str[:2]==\"10\",10,ld_all['Employment.Length'])\n",
    "\n",
    "ld_all['Employment.Length']=np.where(ld_all['Employment.Length'].str[0]==\"<\",0,ld_all['Employment.Length'])\n",
    "\n",
    "ld_all['Employment.Length']=pd.to_numeric(ld_all['Employment.Length'],errors='coerce')"
   ]
  },
  {
   "cell_type": "code",
   "execution_count": 20,
   "metadata": {},
   "outputs": [],
   "source": [
    "# type(ld_all.select_dtypes(['object']))  ## subsetting the column on the basis of its type\n",
    "cat_cols=ld_all.select_dtypes(['object']).columns"
   ]
  },
  {
   "cell_type": "code",
   "execution_count": 21,
   "metadata": {},
   "outputs": [
    {
     "data": {
      "text/plain": [
       "Index(['Loan.Length', 'Loan.Purpose', 'State', 'Home.Ownership', 'data'], dtype='object')"
      ]
     },
     "execution_count": 21,
     "metadata": {},
     "output_type": "execute_result"
    }
   ],
   "source": [
    "cat_cols\n"
   ]
  },
  {
   "cell_type": "code",
   "execution_count": 22,
   "metadata": {},
   "outputs": [
    {
     "name": "stdout",
     "output_type": "stream",
     "text": [
      "data\n"
     ]
    }
   ],
   "source": [
    "print(cat_cols[-1])\n",
    "cat_cols=cat_cols[:-1]"
   ]
  },
  {
   "cell_type": "code",
   "execution_count": 23,
   "metadata": {},
   "outputs": [
    {
     "data": {
      "text/plain": [
       "Index(['Loan.Length', 'Loan.Purpose', 'State', 'Home.Ownership'], dtype='object')"
      ]
     },
     "execution_count": 23,
     "metadata": {},
     "output_type": "execute_result"
    }
   ],
   "source": [
    "cat_cols"
   ]
  },
  {
   "cell_type": "code",
   "execution_count": 24,
   "metadata": {},
   "outputs": [
    {
     "name": "stdout",
     "output_type": "stream",
     "text": [
      "2500\n",
      "2499\n"
     ]
    },
    {
     "data": {
      "text/plain": [
       "pandas.core.series.Series"
      ]
     },
     "execution_count": 24,
     "metadata": {},
     "output_type": "execute_result"
    }
   ],
   "source": [
    "print(ld_all['Loan.Length'].value_counts(dropna=False).sum())\n",
    "print(ld_all['Loan.Length'].value_counts(dropna=True).sum())\n",
    "type(ld_all['Loan.Length'].value_counts())"
   ]
  },
  {
   "cell_type": "code",
   "execution_count": 25,
   "metadata": {},
   "outputs": [
    {
     "name": "stdout",
     "output_type": "stream",
     "text": [
      "36 months    1950\n",
      "60 months     548\n",
      ".               1\n",
      "Name: Loan.Length, dtype: int64\n",
      "<class 'pandas.core.series.Series'>\n",
      "Index(['36 months', '60 months'], dtype='object')\n"
     ]
    },
    {
     "data": {
      "text/plain": [
       "Index(['36 months'], dtype='object')"
      ]
     },
     "execution_count": 25,
     "metadata": {},
     "output_type": "execute_result"
    }
   ],
   "source": [
    "yyy=ld_all['Loan.Length']\n",
    "\n",
    "\n",
    "freqs=yyy.value_counts()\n",
    "print(freqs)\n",
    "print(type(freqs))\n",
    "freqs>20\n",
    "print(freqs.index[freqs>20])\n",
    "k1=freqs.index[freqs>20][:-1]\n",
    "k1"
   ]
  },
  {
   "cell_type": "code",
   "execution_count": 26,
   "metadata": {},
   "outputs": [
    {
     "name": "stdout",
     "output_type": "stream",
     "text": [
      "Loan.Length\n",
      "Loan.Purpose\n",
      "State\n",
      "Home.Ownership\n"
     ]
    }
   ],
   "source": [
    "# User defined function for creating dummies\n",
    "# Loan Lenth, Loan Purpose , State , Home ownership: dummies for categories with good occurence rate\n",
    "# you can use following method if you want to ignore categories with too low frequencies ,\n",
    "#in next section for logistic regression we will be using  pandas' get dummies function. \n",
    "# you can work with either of these . \n",
    "#ignoring categories with low frequencies however will result in fewer columns without \n",
    "# affecting model performance too much .\n",
    "\n",
    "for col in cat_cols:\n",
    "    freqs=ld_all[col].value_counts()\n",
    "    k=freqs.index[freqs>20][:-1]\n",
    "    for cat in k:\n",
    "        name=col+'_'+cat\n",
    "        ld_all[name]=(ld_all[col]==cat).astype(int)\n",
    "    del ld_all[col]\n",
    "    print(col)\n",
    "    \n",
    "    "
   ]
  },
  {
   "cell_type": "code",
   "execution_count": 27,
   "metadata": {},
   "outputs": [
    {
     "data": {
      "text/plain": [
       "Amount.Requested                   float64\n",
       "Interest.Rate                      float64\n",
       "Debt.To.Income.Ratio               float64\n",
       "Monthly.Income                     float64\n",
       "Open.CREDIT.Lines                  float64\n",
       "Revolving.CREDIT.Balance           float64\n",
       "Inquiries.in.the.Last.6.Months     float64\n",
       "Employment.Length                  float64\n",
       "data                                object\n",
       "fico                               float64\n",
       "Loan.Length_36 months                int32\n",
       "Loan.Purpose_debt_consolidation      int32\n",
       "Loan.Purpose_credit_card             int32\n",
       "Loan.Purpose_other                   int32\n",
       "Loan.Purpose_home_improvement        int32\n",
       "Loan.Purpose_major_purchase          int32\n",
       "Loan.Purpose_small_business          int32\n",
       "Loan.Purpose_car                     int32\n",
       "Loan.Purpose_wedding                 int32\n",
       "Loan.Purpose_medical                 int32\n",
       "Loan.Purpose_moving                  int32\n",
       "State_CA                             int32\n",
       "State_NY                             int32\n",
       "State_TX                             int32\n",
       "State_FL                             int32\n",
       "State_IL                             int32\n",
       "State_GA                             int32\n",
       "State_PA                             int32\n",
       "State_NJ                             int32\n",
       "State_VA                             int32\n",
       "State_MA                             int32\n",
       "State_OH                             int32\n",
       "State_MD                             int32\n",
       "State_NC                             int32\n",
       "State_CO                             int32\n",
       "State_WA                             int32\n",
       "State_CT                             int32\n",
       "State_AZ                             int32\n",
       "State_MI                             int32\n",
       "State_AL                             int32\n",
       "State_MN                             int32\n",
       "State_MO                             int32\n",
       "State_NV                             int32\n",
       "State_OR                             int32\n",
       "State_SC                             int32\n",
       "State_WI                             int32\n",
       "State_KY                             int32\n",
       "State_LA                             int32\n",
       "State_OK                             int32\n",
       "Home.Ownership_MORTGAGE              int32\n",
       "Home.Ownership_RENT                  int32\n",
       "dtype: object"
      ]
     },
     "execution_count": 27,
     "metadata": {},
     "output_type": "execute_result"
    }
   ],
   "source": [
    "ld_all.dtypes"
   ]
  },
  {
   "cell_type": "code",
   "execution_count": 28,
   "metadata": {},
   "outputs": [
    {
     "data": {
      "text/plain": [
       "Amount.Requested                     5\n",
       "Interest.Rate                      300\n",
       "Debt.To.Income.Ratio                 1\n",
       "Monthly.Income                       3\n",
       "Open.CREDIT.Lines                    9\n",
       "Revolving.CREDIT.Balance             5\n",
       "Inquiries.in.the.Last.6.Months       3\n",
       "Employment.Length                   80\n",
       "data                                 0\n",
       "fico                                 0\n",
       "Loan.Length_36 months                0\n",
       "Loan.Purpose_debt_consolidation      0\n",
       "Loan.Purpose_credit_card             0\n",
       "Loan.Purpose_other                   0\n",
       "Loan.Purpose_home_improvement        0\n",
       "Loan.Purpose_major_purchase          0\n",
       "Loan.Purpose_small_business          0\n",
       "Loan.Purpose_car                     0\n",
       "Loan.Purpose_wedding                 0\n",
       "Loan.Purpose_medical                 0\n",
       "Loan.Purpose_moving                  0\n",
       "State_CA                             0\n",
       "State_NY                             0\n",
       "State_TX                             0\n",
       "State_FL                             0\n",
       "State_IL                             0\n",
       "State_GA                             0\n",
       "State_PA                             0\n",
       "State_NJ                             0\n",
       "State_VA                             0\n",
       "State_MA                             0\n",
       "State_OH                             0\n",
       "State_MD                             0\n",
       "State_NC                             0\n",
       "State_CO                             0\n",
       "State_WA                             0\n",
       "State_CT                             0\n",
       "State_AZ                             0\n",
       "State_MI                             0\n",
       "State_AL                             0\n",
       "State_MN                             0\n",
       "State_MO                             0\n",
       "State_NV                             0\n",
       "State_OR                             0\n",
       "State_SC                             0\n",
       "State_WI                             0\n",
       "State_KY                             0\n",
       "State_LA                             0\n",
       "State_OK                             0\n",
       "Home.Ownership_MORTGAGE              0\n",
       "Home.Ownership_RENT                  0\n",
       "dtype: int64"
      ]
     },
     "execution_count": 28,
     "metadata": {},
     "output_type": "execute_result"
    }
   ],
   "source": [
    "ld_all.isnull().sum()"
   ]
  },
  {
   "cell_type": "code",
   "execution_count": 29,
   "metadata": {},
   "outputs": [],
   "source": [
    "# Null Value Imputation\n",
    "for col in ld_all.columns:\n",
    "    if (col not in ['Interest.Rate','data'])& (ld_all[col].isnull().sum()>0):\n",
    "        ld_all.loc[ld_all[col].isnull(),col]=ld_all.loc[ld_all['data']=='train',col].mean()"
   ]
  },
  {
   "cell_type": "code",
   "execution_count": 30,
   "metadata": {},
   "outputs": [
    {
     "data": {
      "text/plain": [
       "Amount.Requested                     0\n",
       "Interest.Rate                      300\n",
       "Debt.To.Income.Ratio                 0\n",
       "Monthly.Income                       0\n",
       "Open.CREDIT.Lines                    0\n",
       "Revolving.CREDIT.Balance             0\n",
       "Inquiries.in.the.Last.6.Months       0\n",
       "Employment.Length                    0\n",
       "data                                 0\n",
       "fico                                 0\n",
       "Loan.Length_36 months                0\n",
       "Loan.Purpose_debt_consolidation      0\n",
       "Loan.Purpose_credit_card             0\n",
       "Loan.Purpose_other                   0\n",
       "Loan.Purpose_home_improvement        0\n",
       "Loan.Purpose_major_purchase          0\n",
       "Loan.Purpose_small_business          0\n",
       "Loan.Purpose_car                     0\n",
       "Loan.Purpose_wedding                 0\n",
       "Loan.Purpose_medical                 0\n",
       "Loan.Purpose_moving                  0\n",
       "State_CA                             0\n",
       "State_NY                             0\n",
       "State_TX                             0\n",
       "State_FL                             0\n",
       "State_IL                             0\n",
       "State_GA                             0\n",
       "State_PA                             0\n",
       "State_NJ                             0\n",
       "State_VA                             0\n",
       "State_MA                             0\n",
       "State_OH                             0\n",
       "State_MD                             0\n",
       "State_NC                             0\n",
       "State_CO                             0\n",
       "State_WA                             0\n",
       "State_CT                             0\n",
       "State_AZ                             0\n",
       "State_MI                             0\n",
       "State_AL                             0\n",
       "State_MN                             0\n",
       "State_MO                             0\n",
       "State_NV                             0\n",
       "State_OR                             0\n",
       "State_SC                             0\n",
       "State_WI                             0\n",
       "State_KY                             0\n",
       "State_LA                             0\n",
       "State_OK                             0\n",
       "Home.Ownership_MORTGAGE              0\n",
       "Home.Ownership_RENT                  0\n",
       "dtype: int64"
      ]
     },
     "execution_count": 30,
     "metadata": {},
     "output_type": "execute_result"
    }
   ],
   "source": [
    "ld_all.isnull().sum()"
   ]
  },
  {
   "cell_type": "code",
   "execution_count": 31,
   "metadata": {},
   "outputs": [
    {
     "name": "stderr",
     "output_type": "stream",
     "text": [
      "C:\\Users\\skyas\\Anaconda3\\lib\\site-packages\\pandas\\core\\frame.py:4102: SettingWithCopyWarning: \n",
      "A value is trying to be set on a copy of a slice from a DataFrame\n",
      "\n",
      "See the caveats in the documentation: http://pandas.pydata.org/pandas-docs/stable/user_guide/indexing.html#returning-a-view-versus-a-copy\n",
      "  errors=errors,\n"
     ]
    }
   ],
   "source": [
    "# Separate the Train and Test Data\n",
    "ld_train=ld_all[ld_all['data']=='train']\n",
    "del ld_train['data']\n",
    "ld_test=ld_all[ld_all['data']=='test']\n",
    "ld_test.drop(['Interest.Rate','data'],axis=1,inplace=True)"
   ]
  },
  {
   "cell_type": "code",
   "execution_count": 32,
   "metadata": {},
   "outputs": [],
   "source": [
    "del ld_all"
   ]
  },
  {
   "cell_type": "code",
   "execution_count": 33,
   "metadata": {},
   "outputs": [],
   "source": [
    "from sklearn.model_selection import train_test_split"
   ]
  },
  {
   "cell_type": "code",
   "execution_count": 34,
   "metadata": {},
   "outputs": [],
   "source": [
    "# len(train_test_split(ld_train,test_size=0.2,random_state=2)) ## .8 in train1 & .2 in train2\n",
    "ld_train1,ld_train2=train_test_split(ld_train,test_size=0.2,random_state=2) ## .8 in train1 & .2 in train2"
   ]
  },
  {
   "cell_type": "code",
   "execution_count": 35,
   "metadata": {},
   "outputs": [],
   "source": [
    "# print(ld_train1.shape)\n",
    "# print(ld_train2.shape)\n",
    "# print(ld_train.shape)\n",
    "x_train1=ld_train1.drop('Interest.Rate',axis=1)\n",
    "y_train1=ld_train1['Interest.Rate']"
   ]
  },
  {
   "cell_type": "code",
   "execution_count": 36,
   "metadata": {},
   "outputs": [],
   "source": [
    "from sklearn.linear_model import LinearRegression"
   ]
  },
  {
   "cell_type": "code",
   "execution_count": 37,
   "metadata": {},
   "outputs": [],
   "source": [
    "lm=LinearRegression()"
   ]
  },
  {
   "cell_type": "code",
   "execution_count": 38,
   "metadata": {},
   "outputs": [
    {
     "data": {
      "text/plain": [
       "LinearRegression(copy_X=True, fit_intercept=True, n_jobs=None, normalize=False)"
      ]
     },
     "execution_count": 38,
     "metadata": {},
     "output_type": "execute_result"
    }
   ],
   "source": [
    "lm.fit(x_train1,y_train1)"
   ]
  },
  {
   "cell_type": "code",
   "execution_count": 39,
   "metadata": {},
   "outputs": [
    {
     "data": {
      "text/plain": [
       "76.01913622059156"
      ]
     },
     "execution_count": 39,
     "metadata": {},
     "output_type": "execute_result"
    }
   ],
   "source": [
    "lm.intercept_"
   ]
  },
  {
   "cell_type": "code",
   "execution_count": 40,
   "metadata": {},
   "outputs": [
    {
     "data": {
      "text/plain": [
       "array([ 1.56144310e-04, -3.84424077e-03, -2.64064861e-05, -4.02279980e-02,\n",
       "       -4.04316567e-06,  3.36761303e-01,  3.47338830e-02, -8.66930419e-02,\n",
       "       -3.14255474e+00, -4.71359752e-01, -6.12342913e-01,  4.46260981e-01,\n",
       "       -3.69982978e-01, -9.74511984e-02,  6.25154214e-02,  1.87489143e-02,\n",
       "       -7.83052054e-01, -4.22145895e-01,  1.27688882e+00, -2.91208169e-01,\n",
       "       -2.07841814e-01,  3.84109173e-01,  4.84790447e-03, -7.28594651e-01,\n",
       "       -1.09494969e-01, -6.34463768e-01, -5.04485974e-01, -2.70412445e-01,\n",
       "        1.05102172e-02, -4.42840210e-01, -9.85943511e-02, -3.80422487e-01,\n",
       "       -1.37431618e-01, -3.26283641e-01,  3.65437211e-01,  1.83113340e-01,\n",
       "       -2.39362240e-01, -4.03094750e-01, -1.58637025e-01, -5.14232195e-01,\n",
       "       -2.05177279e-01,  3.90277138e-02, -5.83361736e-02, -2.45120642e-01,\n",
       "        1.87054205e-01, -1.30098405e-01, -4.19212563e-01, -4.91681022e-01,\n",
       "       -2.32175185e-01])"
      ]
     },
     "execution_count": 40,
     "metadata": {},
     "output_type": "execute_result"
    }
   ],
   "source": [
    "lm.coef_"
   ]
  },
  {
   "cell_type": "code",
   "execution_count": 41,
   "metadata": {},
   "outputs": [
    {
     "name": "stdout",
     "output_type": "stream",
     "text": [
      "<class 'pandas.core.indexes.base.Index'>\n",
      "\n"
     ]
    },
    {
     "data": {
      "text/plain": [
       "numpy.ndarray"
      ]
     },
     "execution_count": 41,
     "metadata": {},
     "output_type": "execute_result"
    }
   ],
   "source": [
    "print(type(x_train1.columns))\n",
    "print()\n",
    "type(lm.coef_)"
   ]
  },
  {
   "cell_type": "code",
   "execution_count": 42,
   "metadata": {},
   "outputs": [
    {
     "name": "stdout",
     "output_type": "stream",
     "text": [
      "(49,)\n",
      "\n"
     ]
    },
    {
     "data": {
      "text/plain": [
       "(49,)"
      ]
     },
     "execution_count": 42,
     "metadata": {},
     "output_type": "execute_result"
    }
   ],
   "source": [
    "print(x_train1.columns.shape)\n",
    "print()\n",
    "lm.coef_.shape"
   ]
  },
  {
   "cell_type": "code",
   "execution_count": 43,
   "metadata": {
    "scrolled": true
   },
   "outputs": [
    {
     "data": {
      "text/plain": [
       "[('Amount.Requested', 0.00015614431012143834),\n",
       " ('Debt.To.Income.Ratio', -0.0038442407741178164),\n",
       " ('Monthly.Income', -2.640648611023581e-05),\n",
       " ('Open.CREDIT.Lines', -0.04022799798362768),\n",
       " ('Revolving.CREDIT.Balance', -4.043165672484861e-06),\n",
       " ('Inquiries.in.the.Last.6.Months', 0.336761302956462),\n",
       " ('Employment.Length', 0.034733883022122214),\n",
       " ('fico', -0.08669304194244787),\n",
       " ('Loan.Length_36 months', -3.142554743125377),\n",
       " ('Loan.Purpose_debt_consolidation', -0.4713597523618269),\n",
       " ('Loan.Purpose_credit_card', -0.6123429134596095),\n",
       " ('Loan.Purpose_other', 0.4462609811879844),\n",
       " ('Loan.Purpose_home_improvement', -0.3699829780973721),\n",
       " ('Loan.Purpose_major_purchase', -0.09745119837235866),\n",
       " ('Loan.Purpose_small_business', 0.06251542143811656),\n",
       " ('Loan.Purpose_car', 0.01874891431690409),\n",
       " ('Loan.Purpose_wedding', -0.7830520540035677),\n",
       " ('Loan.Purpose_medical', -0.422145894692867),\n",
       " ('Loan.Purpose_moving', 1.27688882221352),\n",
       " ('State_CA', -0.29120816865192056),\n",
       " ('State_NY', -0.20784181354585982),\n",
       " ('State_TX', 0.3841091731465295),\n",
       " ('State_FL', 0.004847904465573587),\n",
       " ('State_IL', -0.728594651236628),\n",
       " ('State_GA', -0.109494968776252),\n",
       " ('State_PA', -0.6344637679429566),\n",
       " ('State_NJ', -0.5044859736086528),\n",
       " ('State_VA', -0.2704124450086856),\n",
       " ('State_MA', 0.010510217191507576),\n",
       " ('State_OH', -0.4428402101320399),\n",
       " ('State_MD', -0.0985943511484861),\n",
       " ('State_NC', -0.38042248719139077),\n",
       " ('State_CO', -0.13743161843768914),\n",
       " ('State_WA', -0.32628364072969296),\n",
       " ('State_CT', 0.36543721069965435),\n",
       " ('State_AZ', 0.18311333972876945),\n",
       " ('State_MI', -0.2393622396211728),\n",
       " ('State_AL', -0.40309475046961774),\n",
       " ('State_MN', -0.1586370247732582),\n",
       " ('State_MO', -0.5142321949582122),\n",
       " ('State_NV', -0.2051772790117719),\n",
       " ('State_OR', 0.03902771379342575),\n",
       " ('State_SC', -0.058336173623126125),\n",
       " ('State_WI', -0.24512064234535919),\n",
       " ('State_KY', 0.18705420527433594),\n",
       " ('State_LA', -0.13009840467168662),\n",
       " ('State_OK', -0.4192125633226813),\n",
       " ('Home.Ownership_MORTGAGE', -0.49168102215384746),\n",
       " ('Home.Ownership_RENT', -0.23217518504343043)]"
      ]
     },
     "execution_count": 43,
     "metadata": {},
     "output_type": "execute_result"
    }
   ],
   "source": [
    "list(zip(x_train1.columns,lm.coef_))"
   ]
  },
  {
   "cell_type": "code",
   "execution_count": 44,
   "metadata": {},
   "outputs": [],
   "source": [
    "x_train2=ld_train2.drop('Interest.Rate',axis=1)"
   ]
  },
  {
   "cell_type": "code",
   "execution_count": 45,
   "metadata": {},
   "outputs": [],
   "source": [
    "predicted_ir=lm.predict(x_train2)"
   ]
  },
  {
   "cell_type": "code",
   "execution_count": 46,
   "metadata": {},
   "outputs": [],
   "source": [
    "from sklearn.metrics import mean_absolute_error\n",
    "# from sklearn.metrics import mean_squared_error"
   ]
  },
  {
   "cell_type": "code",
   "execution_count": 47,
   "metadata": {},
   "outputs": [
    {
     "data": {
      "text/plain": [
       "1.6292292194608184"
      ]
     },
     "execution_count": 47,
     "metadata": {},
     "output_type": "execute_result"
    }
   ],
   "source": [
    "mean_absolute_error(ld_train2['Interest.Rate'],predicted_ir)\n",
    "# mean_squared_error(ld_train2['Interest.Rate'],predicted_ir)\n",
    "# np.sqrt(mean_squared_error(ld_train2['Interest.Rate'],predicted_ir))"
   ]
  },
  {
   "cell_type": "markdown",
   "metadata": {},
   "source": [
    "We know the tentative performance now, lets build the model on entire training to make prediction on test/production"
   ]
  },
  {
   "cell_type": "code",
   "execution_count": 48,
   "metadata": {},
   "outputs": [],
   "source": [
    "x_train=ld_train.drop('Interest.Rate',axis=1)\n",
    "y_train=ld_train['Interest.Rate']"
   ]
  },
  {
   "cell_type": "code",
   "execution_count": 49,
   "metadata": {},
   "outputs": [
    {
     "data": {
      "text/plain": [
       "LinearRegression(copy_X=True, fit_intercept=True, n_jobs=None, normalize=False)"
      ]
     },
     "execution_count": 49,
     "metadata": {},
     "output_type": "execute_result"
    }
   ],
   "source": [
    "lm.fit(x_train,y_train)"
   ]
  },
  {
   "cell_type": "code",
   "execution_count": 94,
   "metadata": {},
   "outputs": [],
   "source": [
    "test_pred=lm.predict(ld_test)\n"
   ]
  },
  {
   "cell_type": "code",
   "execution_count": 96,
   "metadata": {},
   "outputs": [],
   "source": [
    "###mean_absolute_error(ld_train2['Interest.Rate'],predicted_ir)\n"
   ]
  },
  {
   "cell_type": "markdown",
   "metadata": {},
   "source": [
    "We can write these to a csv file for submission like this :"
   ]
  },
  {
   "cell_type": "code",
   "execution_count": 97,
   "metadata": {},
   "outputs": [],
   "source": [
    "pd.DataFrame(test_pred).to_csv(\"mysubmission.csv\",index=False)"
   ]
  },
  {
   "cell_type": "markdown",
   "metadata": {},
   "source": [
    "# Ridge  Regression"
   ]
  },
  {
   "cell_type": "code",
   "execution_count": 53,
   "metadata": {},
   "outputs": [],
   "source": [
    "from sklearn.linear_model import Ridge,Lasso\n",
    "from sklearn.model_selection import GridSearchCV"
   ]
  },
  {
   "cell_type": "code",
   "execution_count": 54,
   "metadata": {},
   "outputs": [],
   "source": [
    "lambdas=np.linspace(1,100,100)"
   ]
  },
  {
   "cell_type": "code",
   "execution_count": 55,
   "metadata": {},
   "outputs": [],
   "source": [
    "params={'alpha':lambdas}"
   ]
  },
  {
   "cell_type": "code",
   "execution_count": 56,
   "metadata": {},
   "outputs": [],
   "source": [
    "model=Ridge(fit_intercept=True)"
   ]
  },
  {
   "cell_type": "code",
   "execution_count": 57,
   "metadata": {},
   "outputs": [],
   "source": [
    "grid_search=GridSearchCV(model,param_grid=params,cv=10,scoring='neg_mean_absolute_error')"
   ]
  },
  {
   "cell_type": "code",
   "execution_count": 58,
   "metadata": {},
   "outputs": [
    {
     "data": {
      "text/plain": [
       "GridSearchCV(cv=10, error_score='raise-deprecating',\n",
       "             estimator=Ridge(alpha=1.0, copy_X=True, fit_intercept=True,\n",
       "                             max_iter=None, normalize=False, random_state=None,\n",
       "                             solver='auto', tol=0.001),\n",
       "             iid='warn', n_jobs=None,\n",
       "             param_grid={'alpha': array([  1.,   2.,   3.,   4.,   5.,   6.,   7.,   8.,   9.,  10.,  11.,\n",
       "        12.,  13.,  14.,  15.,  16.,  17.,  18.,  19.,  20.,  21.,  22.,\n",
       "        23.,  24.,  25.,  26.,  27.,  28.,  29.,  30.,  31.,  32.,...\n",
       "        34.,  35.,  36.,  37.,  38.,  39.,  40.,  41.,  42.,  43.,  44.,\n",
       "        45.,  46.,  47.,  48.,  49.,  50.,  51.,  52.,  53.,  54.,  55.,\n",
       "        56.,  57.,  58.,  59.,  60.,  61.,  62.,  63.,  64.,  65.,  66.,\n",
       "        67.,  68.,  69.,  70.,  71.,  72.,  73.,  74.,  75.,  76.,  77.,\n",
       "        78.,  79.,  80.,  81.,  82.,  83.,  84.,  85.,  86.,  87.,  88.,\n",
       "        89.,  90.,  91.,  92.,  93.,  94.,  95.,  96.,  97.,  98.,  99.,\n",
       "       100.])},\n",
       "             pre_dispatch='2*n_jobs', refit=True, return_train_score=False,\n",
       "             scoring='neg_mean_absolute_error', verbose=0)"
      ]
     },
     "execution_count": 58,
     "metadata": {},
     "output_type": "execute_result"
    }
   ],
   "source": [
    "grid_search.fit(x_train,y_train)"
   ]
  },
  {
   "cell_type": "code",
   "execution_count": 59,
   "metadata": {},
   "outputs": [
    {
     "data": {
      "text/plain": [
       "Ridge(alpha=33.0, copy_X=True, fit_intercept=True, max_iter=None,\n",
       "      normalize=False, random_state=None, solver='auto', tol=0.001)"
      ]
     },
     "execution_count": 59,
     "metadata": {},
     "output_type": "execute_result"
    }
   ],
   "source": [
    "grid_search.best_estimator_"
   ]
  },
  {
   "cell_type": "code",
   "execution_count": 60,
   "metadata": {},
   "outputs": [
    {
     "data": {
      "text/html": [
       "<div>\n",
       "<style scoped>\n",
       "    .dataframe tbody tr th:only-of-type {\n",
       "        vertical-align: middle;\n",
       "    }\n",
       "\n",
       "    .dataframe tbody tr th {\n",
       "        vertical-align: top;\n",
       "    }\n",
       "\n",
       "    .dataframe thead th {\n",
       "        text-align: right;\n",
       "    }\n",
       "</style>\n",
       "<table border=\"1\" class=\"dataframe\">\n",
       "  <thead>\n",
       "    <tr style=\"text-align: right;\">\n",
       "      <th></th>\n",
       "      <th>mean_fit_time</th>\n",
       "      <th>std_fit_time</th>\n",
       "      <th>mean_score_time</th>\n",
       "      <th>std_score_time</th>\n",
       "      <th>param_alpha</th>\n",
       "      <th>params</th>\n",
       "      <th>split0_test_score</th>\n",
       "      <th>split1_test_score</th>\n",
       "      <th>split2_test_score</th>\n",
       "      <th>split3_test_score</th>\n",
       "      <th>split4_test_score</th>\n",
       "      <th>split5_test_score</th>\n",
       "      <th>split6_test_score</th>\n",
       "      <th>split7_test_score</th>\n",
       "      <th>split8_test_score</th>\n",
       "      <th>split9_test_score</th>\n",
       "      <th>mean_test_score</th>\n",
       "      <th>std_test_score</th>\n",
       "      <th>rank_test_score</th>\n",
       "    </tr>\n",
       "  </thead>\n",
       "  <tbody>\n",
       "    <tr>\n",
       "      <td>0</td>\n",
       "      <td>0.005385</td>\n",
       "      <td>0.003944</td>\n",
       "      <td>0.001097</td>\n",
       "      <td>0.000537</td>\n",
       "      <td>1</td>\n",
       "      <td>{'alpha': 1.0}</td>\n",
       "      <td>-1.722539</td>\n",
       "      <td>-1.765470</td>\n",
       "      <td>-1.773301</td>\n",
       "      <td>-1.642572</td>\n",
       "      <td>-1.450328</td>\n",
       "      <td>-1.640046</td>\n",
       "      <td>-1.426031</td>\n",
       "      <td>-1.575540</td>\n",
       "      <td>-1.528393</td>\n",
       "      <td>-1.662221</td>\n",
       "      <td>-1.618644</td>\n",
       "      <td>0.116032</td>\n",
       "      <td>82</td>\n",
       "    </tr>\n",
       "    <tr>\n",
       "      <td>1</td>\n",
       "      <td>0.001700</td>\n",
       "      <td>0.001546</td>\n",
       "      <td>0.002062</td>\n",
       "      <td>0.004548</td>\n",
       "      <td>2</td>\n",
       "      <td>{'alpha': 2.0}</td>\n",
       "      <td>-1.723349</td>\n",
       "      <td>-1.762548</td>\n",
       "      <td>-1.771327</td>\n",
       "      <td>-1.641886</td>\n",
       "      <td>-1.449444</td>\n",
       "      <td>-1.639019</td>\n",
       "      <td>-1.425280</td>\n",
       "      <td>-1.573624</td>\n",
       "      <td>-1.528086</td>\n",
       "      <td>-1.661940</td>\n",
       "      <td>-1.617650</td>\n",
       "      <td>0.115780</td>\n",
       "      <td>78</td>\n",
       "    </tr>\n",
       "    <tr>\n",
       "      <td>2</td>\n",
       "      <td>0.003123</td>\n",
       "      <td>0.006246</td>\n",
       "      <td>0.001562</td>\n",
       "      <td>0.004686</td>\n",
       "      <td>3</td>\n",
       "      <td>{'alpha': 3.0}</td>\n",
       "      <td>-1.724135</td>\n",
       "      <td>-1.759859</td>\n",
       "      <td>-1.769558</td>\n",
       "      <td>-1.641375</td>\n",
       "      <td>-1.448488</td>\n",
       "      <td>-1.638096</td>\n",
       "      <td>-1.424603</td>\n",
       "      <td>-1.572095</td>\n",
       "      <td>-1.527694</td>\n",
       "      <td>-1.661696</td>\n",
       "      <td>-1.616760</td>\n",
       "      <td>0.115586</td>\n",
       "      <td>73</td>\n",
       "    </tr>\n",
       "    <tr>\n",
       "      <td>3</td>\n",
       "      <td>0.004687</td>\n",
       "      <td>0.007160</td>\n",
       "      <td>0.001101</td>\n",
       "      <td>0.003303</td>\n",
       "      <td>4</td>\n",
       "      <td>{'alpha': 4.0}</td>\n",
       "      <td>-1.724875</td>\n",
       "      <td>-1.757604</td>\n",
       "      <td>-1.768005</td>\n",
       "      <td>-1.641231</td>\n",
       "      <td>-1.447489</td>\n",
       "      <td>-1.637244</td>\n",
       "      <td>-1.424122</td>\n",
       "      <td>-1.570824</td>\n",
       "      <td>-1.527236</td>\n",
       "      <td>-1.661495</td>\n",
       "      <td>-1.616012</td>\n",
       "      <td>0.115456</td>\n",
       "      <td>69</td>\n",
       "    </tr>\n",
       "    <tr>\n",
       "      <td>4</td>\n",
       "      <td>0.004686</td>\n",
       "      <td>0.007159</td>\n",
       "      <td>0.000000</td>\n",
       "      <td>0.000000</td>\n",
       "      <td>5</td>\n",
       "      <td>{'alpha': 5.0}</td>\n",
       "      <td>-1.725559</td>\n",
       "      <td>-1.755621</td>\n",
       "      <td>-1.766622</td>\n",
       "      <td>-1.641144</td>\n",
       "      <td>-1.446477</td>\n",
       "      <td>-1.636445</td>\n",
       "      <td>-1.423771</td>\n",
       "      <td>-1.569738</td>\n",
       "      <td>-1.526747</td>\n",
       "      <td>-1.661435</td>\n",
       "      <td>-1.615356</td>\n",
       "      <td>0.115365</td>\n",
       "      <td>66</td>\n",
       "    </tr>\n",
       "    <tr>\n",
       "      <td>...</td>\n",
       "      <td>...</td>\n",
       "      <td>...</td>\n",
       "      <td>...</td>\n",
       "      <td>...</td>\n",
       "      <td>...</td>\n",
       "      <td>...</td>\n",
       "      <td>...</td>\n",
       "      <td>...</td>\n",
       "      <td>...</td>\n",
       "      <td>...</td>\n",
       "      <td>...</td>\n",
       "      <td>...</td>\n",
       "      <td>...</td>\n",
       "      <td>...</td>\n",
       "      <td>...</td>\n",
       "      <td>...</td>\n",
       "      <td>...</td>\n",
       "      <td>...</td>\n",
       "      <td>...</td>\n",
       "    </tr>\n",
       "    <tr>\n",
       "      <td>95</td>\n",
       "      <td>0.005589</td>\n",
       "      <td>0.001425</td>\n",
       "      <td>0.001591</td>\n",
       "      <td>0.000487</td>\n",
       "      <td>96</td>\n",
       "      <td>{'alpha': 96.0}</td>\n",
       "      <td>-1.779823</td>\n",
       "      <td>-1.718428</td>\n",
       "      <td>-1.778441</td>\n",
       "      <td>-1.646426</td>\n",
       "      <td>-1.429882</td>\n",
       "      <td>-1.616529</td>\n",
       "      <td>-1.433460</td>\n",
       "      <td>-1.577886</td>\n",
       "      <td>-1.532539</td>\n",
       "      <td>-1.711135</td>\n",
       "      <td>-1.622455</td>\n",
       "      <td>0.122334</td>\n",
       "      <td>96</td>\n",
       "    </tr>\n",
       "    <tr>\n",
       "      <td>96</td>\n",
       "      <td>0.005486</td>\n",
       "      <td>0.001561</td>\n",
       "      <td>0.001695</td>\n",
       "      <td>0.001003</td>\n",
       "      <td>97</td>\n",
       "      <td>{'alpha': 97.0}</td>\n",
       "      <td>-1.780384</td>\n",
       "      <td>-1.718477</td>\n",
       "      <td>-1.778769</td>\n",
       "      <td>-1.646638</td>\n",
       "      <td>-1.430038</td>\n",
       "      <td>-1.616627</td>\n",
       "      <td>-1.433782</td>\n",
       "      <td>-1.578249</td>\n",
       "      <td>-1.532824</td>\n",
       "      <td>-1.711732</td>\n",
       "      <td>-1.622752</td>\n",
       "      <td>0.122390</td>\n",
       "      <td>97</td>\n",
       "    </tr>\n",
       "    <tr>\n",
       "      <td>97</td>\n",
       "      <td>0.005287</td>\n",
       "      <td>0.000897</td>\n",
       "      <td>0.001296</td>\n",
       "      <td>0.000638</td>\n",
       "      <td>98</td>\n",
       "      <td>{'alpha': 98.0}</td>\n",
       "      <td>-1.780941</td>\n",
       "      <td>-1.718527</td>\n",
       "      <td>-1.779096</td>\n",
       "      <td>-1.646849</td>\n",
       "      <td>-1.430193</td>\n",
       "      <td>-1.616724</td>\n",
       "      <td>-1.434101</td>\n",
       "      <td>-1.578611</td>\n",
       "      <td>-1.533109</td>\n",
       "      <td>-1.712326</td>\n",
       "      <td>-1.623048</td>\n",
       "      <td>0.122447</td>\n",
       "      <td>98</td>\n",
       "    </tr>\n",
       "    <tr>\n",
       "      <td>98</td>\n",
       "      <td>0.004583</td>\n",
       "      <td>0.001347</td>\n",
       "      <td>0.001497</td>\n",
       "      <td>0.000673</td>\n",
       "      <td>99</td>\n",
       "      <td>{'alpha': 99.0}</td>\n",
       "      <td>-1.781495</td>\n",
       "      <td>-1.718583</td>\n",
       "      <td>-1.779421</td>\n",
       "      <td>-1.647058</td>\n",
       "      <td>-1.430347</td>\n",
       "      <td>-1.616821</td>\n",
       "      <td>-1.434419</td>\n",
       "      <td>-1.578971</td>\n",
       "      <td>-1.533392</td>\n",
       "      <td>-1.712917</td>\n",
       "      <td>-1.623342</td>\n",
       "      <td>0.122503</td>\n",
       "      <td>99</td>\n",
       "    </tr>\n",
       "    <tr>\n",
       "      <td>99</td>\n",
       "      <td>0.005687</td>\n",
       "      <td>0.001185</td>\n",
       "      <td>0.002193</td>\n",
       "      <td>0.001162</td>\n",
       "      <td>100</td>\n",
       "      <td>{'alpha': 100.0}</td>\n",
       "      <td>-1.782045</td>\n",
       "      <td>-1.718681</td>\n",
       "      <td>-1.779743</td>\n",
       "      <td>-1.647267</td>\n",
       "      <td>-1.430501</td>\n",
       "      <td>-1.616918</td>\n",
       "      <td>-1.434736</td>\n",
       "      <td>-1.579328</td>\n",
       "      <td>-1.533673</td>\n",
       "      <td>-1.713506</td>\n",
       "      <td>-1.623640</td>\n",
       "      <td>0.122563</td>\n",
       "      <td>100</td>\n",
       "    </tr>\n",
       "  </tbody>\n",
       "</table>\n",
       "<p>100 rows × 19 columns</p>\n",
       "</div>"
      ],
      "text/plain": [
       "    mean_fit_time  std_fit_time  mean_score_time  std_score_time param_alpha  \\\n",
       "0        0.005385      0.003944         0.001097        0.000537           1   \n",
       "1        0.001700      0.001546         0.002062        0.004548           2   \n",
       "2        0.003123      0.006246         0.001562        0.004686           3   \n",
       "3        0.004687      0.007160         0.001101        0.003303           4   \n",
       "4        0.004686      0.007159         0.000000        0.000000           5   \n",
       "..            ...           ...              ...             ...         ...   \n",
       "95       0.005589      0.001425         0.001591        0.000487          96   \n",
       "96       0.005486      0.001561         0.001695        0.001003          97   \n",
       "97       0.005287      0.000897         0.001296        0.000638          98   \n",
       "98       0.004583      0.001347         0.001497        0.000673          99   \n",
       "99       0.005687      0.001185         0.002193        0.001162         100   \n",
       "\n",
       "              params  split0_test_score  split1_test_score  split2_test_score  \\\n",
       "0     {'alpha': 1.0}          -1.722539          -1.765470          -1.773301   \n",
       "1     {'alpha': 2.0}          -1.723349          -1.762548          -1.771327   \n",
       "2     {'alpha': 3.0}          -1.724135          -1.759859          -1.769558   \n",
       "3     {'alpha': 4.0}          -1.724875          -1.757604          -1.768005   \n",
       "4     {'alpha': 5.0}          -1.725559          -1.755621          -1.766622   \n",
       "..               ...                ...                ...                ...   \n",
       "95   {'alpha': 96.0}          -1.779823          -1.718428          -1.778441   \n",
       "96   {'alpha': 97.0}          -1.780384          -1.718477          -1.778769   \n",
       "97   {'alpha': 98.0}          -1.780941          -1.718527          -1.779096   \n",
       "98   {'alpha': 99.0}          -1.781495          -1.718583          -1.779421   \n",
       "99  {'alpha': 100.0}          -1.782045          -1.718681          -1.779743   \n",
       "\n",
       "    split3_test_score  split4_test_score  split5_test_score  \\\n",
       "0           -1.642572          -1.450328          -1.640046   \n",
       "1           -1.641886          -1.449444          -1.639019   \n",
       "2           -1.641375          -1.448488          -1.638096   \n",
       "3           -1.641231          -1.447489          -1.637244   \n",
       "4           -1.641144          -1.446477          -1.636445   \n",
       "..                ...                ...                ...   \n",
       "95          -1.646426          -1.429882          -1.616529   \n",
       "96          -1.646638          -1.430038          -1.616627   \n",
       "97          -1.646849          -1.430193          -1.616724   \n",
       "98          -1.647058          -1.430347          -1.616821   \n",
       "99          -1.647267          -1.430501          -1.616918   \n",
       "\n",
       "    split6_test_score  split7_test_score  split8_test_score  \\\n",
       "0           -1.426031          -1.575540          -1.528393   \n",
       "1           -1.425280          -1.573624          -1.528086   \n",
       "2           -1.424603          -1.572095          -1.527694   \n",
       "3           -1.424122          -1.570824          -1.527236   \n",
       "4           -1.423771          -1.569738          -1.526747   \n",
       "..                ...                ...                ...   \n",
       "95          -1.433460          -1.577886          -1.532539   \n",
       "96          -1.433782          -1.578249          -1.532824   \n",
       "97          -1.434101          -1.578611          -1.533109   \n",
       "98          -1.434419          -1.578971          -1.533392   \n",
       "99          -1.434736          -1.579328          -1.533673   \n",
       "\n",
       "    split9_test_score  mean_test_score  std_test_score  rank_test_score  \n",
       "0           -1.662221        -1.618644        0.116032               82  \n",
       "1           -1.661940        -1.617650        0.115780               78  \n",
       "2           -1.661696        -1.616760        0.115586               73  \n",
       "3           -1.661495        -1.616012        0.115456               69  \n",
       "4           -1.661435        -1.615356        0.115365               66  \n",
       "..                ...              ...             ...              ...  \n",
       "95          -1.711135        -1.622455        0.122334               96  \n",
       "96          -1.711732        -1.622752        0.122390               97  \n",
       "97          -1.712326        -1.623048        0.122447               98  \n",
       "98          -1.712917        -1.623342        0.122503               99  \n",
       "99          -1.713506        -1.623640        0.122563              100  \n",
       "\n",
       "[100 rows x 19 columns]"
      ]
     },
     "execution_count": 60,
     "metadata": {},
     "output_type": "execute_result"
    }
   ],
   "source": [
    "pd.DataFrame(grid_search.cv_results_)"
   ]
  },
  {
   "cell_type": "markdown",
   "metadata": {},
   "source": [
    " if you want you can now fit a ridge regression model with obtained value of alpha , although there is no need, grid search automatically fits the best estimator on the entire data, you can directly use this to make predictions on test_data. But if you want to look at coefficients , its much more convenient to fit the model with direct function"
   ]
  },
  {
   "cell_type": "markdown",
   "metadata": {},
   "source": [
    "Using the report function given below you can see the cv performance of top few models as well, that will the tentative performance"
   ]
  },
  {
   "cell_type": "code",
   "execution_count": 61,
   "metadata": {},
   "outputs": [],
   "source": [
    "def report(results, n_top=3):\n",
    "    for i in range(1, n_top + 1):\n",
    "        candidates = np.flatnonzero(results['rank_test_score'] == i)\n",
    "        for candidate in candidates:\n",
    "            print(\"Model with rank: {0}\".format(i))\n",
    "            print(\"Mean validation score: {0:.5f} (std: {1:.5f})\".format(\n",
    "                  results['mean_test_score'][candidate],\n",
    "                  results['std_test_score'][candidate]))\n",
    "            print(\"Parameters: {0}\".format(results['params'][candidate]))\n",
    "            print(\"\")"
   ]
  },
  {
   "cell_type": "code",
   "execution_count": 62,
   "metadata": {},
   "outputs": [
    {
     "name": "stdout",
     "output_type": "stream",
     "text": [
      "Model with rank: 1\n",
      "Mean validation score: -1.61024 (std: 0.11713)\n",
      "Parameters: {'alpha': 33.0}\n",
      "\n",
      "Model with rank: 2\n",
      "Mean validation score: -1.61024 (std: 0.11720)\n",
      "Parameters: {'alpha': 34.0}\n",
      "\n",
      "Model with rank: 3\n",
      "Mean validation score: -1.61025 (std: 0.11706)\n",
      "Parameters: {'alpha': 32.0}\n",
      "\n",
      "Model with rank: 4\n",
      "Mean validation score: -1.61026 (std: 0.11727)\n",
      "Parameters: {'alpha': 35.0}\n",
      "\n",
      "Model with rank: 5\n",
      "Mean validation score: -1.61026 (std: 0.11700)\n",
      "Parameters: {'alpha': 31.0}\n",
      "\n"
     ]
    }
   ],
   "source": [
    "report(grid_search.cv_results_,5)"
   ]
  },
  {
   "cell_type": "code",
   "execution_count": 63,
   "metadata": {},
   "outputs": [],
   "source": [
    "# Grid Search , Internally fit the function for best parameter as well so no need to run the fit \n",
    "# exclusively for best parameter\n",
    "# However , if you want to the coefficient of each predictors then you have to run this \n",
    "# fit once again\n",
    "test_pred=grid_search.predict(ld_test)"
   ]
  },
  {
   "cell_type": "code",
   "execution_count": 64,
   "metadata": {},
   "outputs": [],
   "source": [
    "pd.DataFrame(test_pred).to_csv(\"mysubmission.csv\",index=False)"
   ]
  },
  {
   "cell_type": "markdown",
   "metadata": {
    "collapsed": true
   },
   "source": [
    "## For looking at coefficients\n",
    "\n",
    "Optional step, only required when we are interested to know about the values off different coefficients."
   ]
  },
  {
   "cell_type": "code",
   "execution_count": 65,
   "metadata": {},
   "outputs": [],
   "source": [
    "# Collecting the Best Parameter\n",
    "ridge_model=grid_search.best_estimator_"
   ]
  },
  {
   "cell_type": "code",
   "execution_count": 66,
   "metadata": {},
   "outputs": [
    {
     "data": {
      "text/plain": [
       "Ridge(alpha=33.0, copy_X=True, fit_intercept=True, max_iter=None,\n",
       "      normalize=False, random_state=None, solver='auto', tol=0.001)"
      ]
     },
     "execution_count": 66,
     "metadata": {},
     "output_type": "execute_result"
    }
   ],
   "source": [
    "ridge_model.fit(x_train,y_train)"
   ]
  },
  {
   "cell_type": "code",
   "execution_count": 67,
   "metadata": {},
   "outputs": [
    {
     "name": "stdout",
     "output_type": "stream",
     "text": [
      "<class 'pandas.core.indexes.base.Index'>\n",
      "\n"
     ]
    },
    {
     "data": {
      "text/plain": [
       "numpy.ndarray"
      ]
     },
     "execution_count": 67,
     "metadata": {},
     "output_type": "execute_result"
    }
   ],
   "source": [
    "print(type(x_train.columns))\n",
    "print()\n",
    "type(ridge_model.coef_)"
   ]
  },
  {
   "cell_type": "code",
   "execution_count": 68,
   "metadata": {},
   "outputs": [
    {
     "name": "stdout",
     "output_type": "stream",
     "text": [
      "(49,)\n",
      "\n"
     ]
    },
    {
     "data": {
      "text/plain": [
       "(49,)"
      ]
     },
     "execution_count": 68,
     "metadata": {},
     "output_type": "execute_result"
    }
   ],
   "source": [
    "print(x_train.columns.shape)\n",
    "print()\n",
    "ridge_model.coef_.shape"
   ]
  },
  {
   "cell_type": "code",
   "execution_count": 69,
   "metadata": {},
   "outputs": [
    {
     "data": {
      "text/plain": [
       "[('Amount.Requested', 0.00016694728491458577),\n",
       " ('Debt.To.Income.Ratio', -0.0012318165592272478),\n",
       " ('Monthly.Income', -2.958745941066146e-05),\n",
       " ('Open.CREDIT.Lines', -0.036844456548317195),\n",
       " ('Revolving.CREDIT.Balance', -3.0298763520014846e-06),\n",
       " ('Inquiries.in.the.Last.6.Months', 0.34256440527076776),\n",
       " ('Employment.Length', 0.019386236424857747),\n",
       " ('fico', -0.0866470894033935),\n",
       " ('Loan.Length_36 months', -2.8391539157194514),\n",
       " ('Loan.Purpose_debt_consolidation', -0.372244295803813),\n",
       " ('Loan.Purpose_credit_card', -0.4669643121927732),\n",
       " ('Loan.Purpose_other', 0.3782673033850654),\n",
       " ('Loan.Purpose_home_improvement', -0.23409022842016117),\n",
       " ('Loan.Purpose_major_purchase', -0.013616976256590078),\n",
       " ('Loan.Purpose_small_business', 0.08759197675127413),\n",
       " ('Loan.Purpose_car', -0.03257553103243947),\n",
       " ('Loan.Purpose_wedding', -0.33475995188670893),\n",
       " ('Loan.Purpose_medical', -0.09809622633427424),\n",
       " ('Loan.Purpose_moving', 0.46418890336399526),\n",
       " ('State_CA', -0.09953195660418801),\n",
       " ('State_NY', -0.050105862583651045),\n",
       " ('State_TX', 0.4246877237607738),\n",
       " ('State_FL', 0.019156225627726613),\n",
       " ('State_IL', -0.35516156308015434),\n",
       " ('State_GA', -0.08937978986862528),\n",
       " ('State_PA', -0.28844882853987863),\n",
       " ('State_NJ', -0.2158260035578724),\n",
       " ('State_VA', -0.006820534118668541),\n",
       " ('State_MA', -0.021151484211527224),\n",
       " ('State_OH', -0.13837526923960905),\n",
       " ('State_MD', 0.007404318875840023),\n",
       " ('State_NC', -0.2505529902504349),\n",
       " ('State_CO', 0.08955252000003078),\n",
       " ('State_WA', -0.09326080152255666),\n",
       " ('State_CT', 0.24870110050440355),\n",
       " ('State_AZ', 0.27536257452536594),\n",
       " ('State_MI', -0.007178475477558128),\n",
       " ('State_AL', 0.009932143762134115),\n",
       " ('State_MN', -0.04704177945530443),\n",
       " ('State_MO', -0.12622562059305975),\n",
       " ('State_NV', -0.01649166255728227),\n",
       " ('State_OR', 0.04297913277607559),\n",
       " ('State_SC', 0.006100117938453769),\n",
       " ('State_WI', 0.06329473893294679),\n",
       " ('State_KY', 0.06769778677841318),\n",
       " ('State_LA', 0.10832206261195111),\n",
       " ('State_OK', -0.09254255640581535),\n",
       " ('Home.Ownership_MORTGAGE', -0.30514634168462407),\n",
       " ('Home.Ownership_RENT', -0.09822137961739798)]"
      ]
     },
     "execution_count": 69,
     "metadata": {},
     "output_type": "execute_result"
    }
   ],
   "source": [
    "list(zip(x_train.columns,ridge_model.coef_))"
   ]
  },
  {
   "cell_type": "markdown",
   "metadata": {},
   "source": [
    "## Lasso Regression"
   ]
  },
  {
   "cell_type": "code",
   "execution_count": 70,
   "metadata": {},
   "outputs": [],
   "source": [
    "lambdas=np.linspace(1,10,100)\n",
    "model=Lasso(fit_intercept=True)\n",
    "params={'alpha':lambdas}"
   ]
  },
  {
   "cell_type": "code",
   "execution_count": 71,
   "metadata": {},
   "outputs": [],
   "source": [
    "grid_search=GridSearchCV(model,param_grid=params,cv=10,scoring='neg_mean_absolute_error')"
   ]
  },
  {
   "cell_type": "code",
   "execution_count": 72,
   "metadata": {},
   "outputs": [
    {
     "data": {
      "text/plain": [
       "GridSearchCV(cv=10, error_score='raise-deprecating',\n",
       "             estimator=Lasso(alpha=1.0, copy_X=True, fit_intercept=True,\n",
       "                             max_iter=1000, normalize=False, positive=False,\n",
       "                             precompute=False, random_state=None,\n",
       "                             selection='cyclic', tol=0.0001, warm_start=False),\n",
       "             iid='warn', n_jobs=None,\n",
       "             param_grid={'alpha': array([ 1.        ,  1.09090909,  1.18181818,  1.27272727,  1.36363636,\n",
       "        1.45454545,  1.5454...\n",
       "        7.81818182,  7.90909091,  8.        ,  8.09090909,  8.18181818,\n",
       "        8.27272727,  8.36363636,  8.45454545,  8.54545455,  8.63636364,\n",
       "        8.72727273,  8.81818182,  8.90909091,  9.        ,  9.09090909,\n",
       "        9.18181818,  9.27272727,  9.36363636,  9.45454545,  9.54545455,\n",
       "        9.63636364,  9.72727273,  9.81818182,  9.90909091, 10.        ])},\n",
       "             pre_dispatch='2*n_jobs', refit=True, return_train_score=False,\n",
       "             scoring='neg_mean_absolute_error', verbose=0)"
      ]
     },
     "execution_count": 72,
     "metadata": {},
     "output_type": "execute_result"
    }
   ],
   "source": [
    "grid_search.fit(x_train,y_train)"
   ]
  },
  {
   "cell_type": "code",
   "execution_count": 73,
   "metadata": {},
   "outputs": [
    {
     "data": {
      "text/plain": [
       "Lasso(alpha=1.0, copy_X=True, fit_intercept=True, max_iter=1000,\n",
       "      normalize=False, positive=False, precompute=False, random_state=None,\n",
       "      selection='cyclic', tol=0.0001, warm_start=False)"
      ]
     },
     "execution_count": 73,
     "metadata": {},
     "output_type": "execute_result"
    }
   ],
   "source": [
    "grid_search.best_estimator_"
   ]
  },
  {
   "cell_type": "markdown",
   "metadata": {},
   "source": [
    "you can see that, the best value of alpha comes at the edge of the range that we tried , we should expand the trial range on that side and run this again"
   ]
  },
  {
   "cell_type": "code",
   "execution_count": 74,
   "metadata": {},
   "outputs": [],
   "source": [
    "lambdas=np.linspace(.001,2,100)\n",
    "params={'alpha':lambdas}"
   ]
  },
  {
   "cell_type": "code",
   "execution_count": 75,
   "metadata": {},
   "outputs": [
    {
     "data": {
      "text/plain": [
       "GridSearchCV(cv=10, error_score='raise-deprecating',\n",
       "             estimator=Lasso(alpha=1.0, copy_X=True, fit_intercept=True,\n",
       "                             max_iter=1000, normalize=False, positive=False,\n",
       "                             precompute=False, random_state=None,\n",
       "                             selection='cyclic', tol=0.0001, warm_start=False),\n",
       "             iid='warn', n_jobs=None,\n",
       "             param_grid={'alpha': array([1.00000000e-03, 2.11919192e-02, 4.13838384e-02, 6.15757576e-02,\n",
       "       8.17...\n",
       "       1.61635354e+00, 1.63654545e+00, 1.65673737e+00, 1.67692929e+00,\n",
       "       1.69712121e+00, 1.71731313e+00, 1.73750505e+00, 1.75769697e+00,\n",
       "       1.77788889e+00, 1.79808081e+00, 1.81827273e+00, 1.83846465e+00,\n",
       "       1.85865657e+00, 1.87884848e+00, 1.89904040e+00, 1.91923232e+00,\n",
       "       1.93942424e+00, 1.95961616e+00, 1.97980808e+00, 2.00000000e+00])},\n",
       "             pre_dispatch='2*n_jobs', refit=True, return_train_score=False,\n",
       "             scoring='neg_mean_absolute_error', verbose=0)"
      ]
     },
     "execution_count": 75,
     "metadata": {},
     "output_type": "execute_result"
    }
   ],
   "source": [
    "grid_search=GridSearchCV(model,param_grid=params,cv=10,scoring='neg_mean_absolute_error')\n",
    "grid_search.fit(x_train,y_train)"
   ]
  },
  {
   "cell_type": "code",
   "execution_count": 76,
   "metadata": {},
   "outputs": [
    {
     "data": {
      "text/plain": [
       "Lasso(alpha=0.021191919191919192, copy_X=True, fit_intercept=True,\n",
       "      max_iter=1000, normalize=False, positive=False, precompute=False,\n",
       "      random_state=None, selection='cyclic', tol=0.0001, warm_start=False)"
      ]
     },
     "execution_count": 76,
     "metadata": {},
     "output_type": "execute_result"
    }
   ],
   "source": [
    "grid_search.best_estimator_"
   ]
  },
  {
   "cell_type": "code",
   "execution_count": 77,
   "metadata": {},
   "outputs": [
    {
     "name": "stdout",
     "output_type": "stream",
     "text": [
      "Model with rank: 1\n",
      "Mean validation score: -1.60332 (std: 0.12018)\n",
      "Parameters: {'alpha': 0.021191919191919192}\n",
      "\n",
      "Model with rank: 2\n",
      "Mean validation score: -1.61248 (std: 0.12605)\n",
      "Parameters: {'alpha': 0.041383838383838384}\n",
      "\n",
      "Model with rank: 3\n",
      "Mean validation score: -1.61519 (std: 0.11569)\n",
      "Parameters: {'alpha': 0.001}\n",
      "\n",
      "Model with rank: 4\n",
      "Mean validation score: -1.61932 (std: 0.12695)\n",
      "Parameters: {'alpha': 0.061575757575757575}\n",
      "\n",
      "Model with rank: 5\n",
      "Mean validation score: -1.62397 (std: 0.12787)\n",
      "Parameters: {'alpha': 0.08176767676767677}\n",
      "\n"
     ]
    }
   ],
   "source": [
    "report(grid_search.cv_results_,5)"
   ]
  },
  {
   "cell_type": "code",
   "execution_count": 78,
   "metadata": {},
   "outputs": [],
   "source": [
    "test_pred=grid_search.predict(ld_test)"
   ]
  },
  {
   "cell_type": "code",
   "execution_count": 79,
   "metadata": {},
   "outputs": [],
   "source": [
    "lasso_model=grid_search.best_estimator_"
   ]
  },
  {
   "cell_type": "code",
   "execution_count": 80,
   "metadata": {},
   "outputs": [
    {
     "data": {
      "text/plain": [
       "Lasso(alpha=0.021191919191919192, copy_X=True, fit_intercept=True,\n",
       "      max_iter=1000, normalize=False, positive=False, precompute=False,\n",
       "      random_state=None, selection='cyclic', tol=0.0001, warm_start=False)"
      ]
     },
     "execution_count": 80,
     "metadata": {},
     "output_type": "execute_result"
    }
   ],
   "source": [
    "lasso_model.fit(x_train,y_train)"
   ]
  },
  {
   "cell_type": "code",
   "execution_count": 81,
   "metadata": {},
   "outputs": [],
   "source": [
    "## test_pred-lasso_model.predict(ld_test)"
   ]
  },
  {
   "cell_type": "code",
   "execution_count": 82,
   "metadata": {},
   "outputs": [
    {
     "data": {
      "text/plain": [
       "[('Amount.Requested', 0.00016025576388069374),\n",
       " ('Debt.To.Income.Ratio', -0.0009940455335086431),\n",
       " ('Monthly.Income', -2.7161150694601474e-05),\n",
       " ('Open.CREDIT.Lines', -0.03776066942268258),\n",
       " ('Revolving.CREDIT.Balance', -3.2291582902347866e-06),\n",
       " ('Inquiries.in.the.Last.6.Months', 0.32734647665538585),\n",
       " ('Employment.Length', 0.011883001638602755),\n",
       " ('fico', -0.08647817945138424),\n",
       " ('Loan.Length_36 months', -3.0098932744846625),\n",
       " ('Loan.Purpose_debt_consolidation', -0.1780182230425123),\n",
       " ('Loan.Purpose_credit_card', -0.22053269213383622),\n",
       " ('Loan.Purpose_other', 0.3196217853383159),\n",
       " ('Loan.Purpose_home_improvement', -0.0),\n",
       " ('Loan.Purpose_major_purchase', 0.0),\n",
       " ('Loan.Purpose_small_business', 0.0),\n",
       " ('Loan.Purpose_car', 0.0),\n",
       " ('Loan.Purpose_wedding', -0.0),\n",
       " ('Loan.Purpose_medical', -0.0),\n",
       " ('Loan.Purpose_moving', 0.0),\n",
       " ('State_CA', -0.0),\n",
       " ('State_NY', 0.0),\n",
       " ('State_TX', 0.2592516325019152),\n",
       " ('State_FL', 0.0),\n",
       " ('State_IL', -0.0),\n",
       " ('State_GA', -0.0),\n",
       " ('State_PA', -0.0),\n",
       " ('State_NJ', -0.0),\n",
       " ('State_VA', 0.0),\n",
       " ('State_MA', 0.0),\n",
       " ('State_OH', -0.0),\n",
       " ('State_MD', 0.0),\n",
       " ('State_NC', -0.0),\n",
       " ('State_CO', 0.0),\n",
       " ('State_WA', -0.0),\n",
       " ('State_CT', 0.0),\n",
       " ('State_AZ', 0.0),\n",
       " ('State_MI', 0.0),\n",
       " ('State_AL', 0.0),\n",
       " ('State_MN', -0.0),\n",
       " ('State_MO', -0.0),\n",
       " ('State_NV', 0.0),\n",
       " ('State_OR', 0.0),\n",
       " ('State_SC', 0.0),\n",
       " ('State_WI', 0.0),\n",
       " ('State_KY', 0.0),\n",
       " ('State_LA', 0.0),\n",
       " ('State_OK', -0.0),\n",
       " ('Home.Ownership_MORTGAGE', -0.15598777750113385),\n",
       " ('Home.Ownership_RENT', 0.0)]"
      ]
     },
     "execution_count": 82,
     "metadata": {},
     "output_type": "execute_result"
    }
   ],
   "source": [
    "list(zip(x_train.columns,lasso_model.coef_))"
   ]
  },
  {
   "cell_type": "markdown",
   "metadata": {
    "collapsed": true
   },
   "source": [
    "# Logistic Regression"
   ]
  },
  {
   "cell_type": "code",
   "execution_count": 83,
   "metadata": {},
   "outputs": [],
   "source": [
    "import numpy as np\n",
    "import pandas as pd"
   ]
  },
  {
   "cell_type": "code",
   "execution_count": 84,
   "metadata": {},
   "outputs": [
    {
     "ename": "FileNotFoundError",
     "evalue": "[Errno 2] File b'rg_train.csv' does not exist: b'rg_train.csv'",
     "output_type": "error",
     "traceback": [
      "\u001b[1;31m---------------------------------------------------------------------------\u001b[0m",
      "\u001b[1;31mFileNotFoundError\u001b[0m                         Traceback (most recent call last)",
      "\u001b[1;32m<ipython-input-84-5ad22b7f4011>\u001b[0m in \u001b[0;36m<module>\u001b[1;34m\u001b[0m\n\u001b[0;32m      1\u001b[0m \u001b[0mtrain_file\u001b[0m\u001b[1;33m=\u001b[0m\u001b[1;34mr'rg_train.csv'\u001b[0m\u001b[1;33m\u001b[0m\u001b[1;33m\u001b[0m\u001b[0m\n\u001b[0;32m      2\u001b[0m \u001b[0mtest_file\u001b[0m\u001b[1;33m=\u001b[0m\u001b[1;34mr'rg_test.csv'\u001b[0m\u001b[1;33m\u001b[0m\u001b[1;33m\u001b[0m\u001b[0m\n\u001b[1;32m----> 3\u001b[1;33m \u001b[0mbd_train\u001b[0m\u001b[1;33m=\u001b[0m\u001b[0mpd\u001b[0m\u001b[1;33m.\u001b[0m\u001b[0mread_csv\u001b[0m\u001b[1;33m(\u001b[0m\u001b[0mtrain_file\u001b[0m\u001b[1;33m)\u001b[0m\u001b[1;33m\u001b[0m\u001b[1;33m\u001b[0m\u001b[0m\n\u001b[0m\u001b[0;32m      4\u001b[0m \u001b[1;33m\u001b[0m\u001b[0m\n\u001b[0;32m      5\u001b[0m \u001b[0mbd_test\u001b[0m\u001b[1;33m=\u001b[0m\u001b[0mpd\u001b[0m\u001b[1;33m.\u001b[0m\u001b[0mread_csv\u001b[0m\u001b[1;33m(\u001b[0m\u001b[0mtest_file\u001b[0m\u001b[1;33m)\u001b[0m\u001b[1;33m\u001b[0m\u001b[1;33m\u001b[0m\u001b[0m\n",
      "\u001b[1;32m~\\Anaconda3\\lib\\site-packages\\pandas\\io\\parsers.py\u001b[0m in \u001b[0;36mparser_f\u001b[1;34m(filepath_or_buffer, sep, delimiter, header, names, index_col, usecols, squeeze, prefix, mangle_dupe_cols, dtype, engine, converters, true_values, false_values, skipinitialspace, skiprows, skipfooter, nrows, na_values, keep_default_na, na_filter, verbose, skip_blank_lines, parse_dates, infer_datetime_format, keep_date_col, date_parser, dayfirst, cache_dates, iterator, chunksize, compression, thousands, decimal, lineterminator, quotechar, quoting, doublequote, escapechar, comment, encoding, dialect, error_bad_lines, warn_bad_lines, delim_whitespace, low_memory, memory_map, float_precision)\u001b[0m\n\u001b[0;32m    683\u001b[0m         )\n\u001b[0;32m    684\u001b[0m \u001b[1;33m\u001b[0m\u001b[0m\n\u001b[1;32m--> 685\u001b[1;33m         \u001b[1;32mreturn\u001b[0m \u001b[0m_read\u001b[0m\u001b[1;33m(\u001b[0m\u001b[0mfilepath_or_buffer\u001b[0m\u001b[1;33m,\u001b[0m \u001b[0mkwds\u001b[0m\u001b[1;33m)\u001b[0m\u001b[1;33m\u001b[0m\u001b[1;33m\u001b[0m\u001b[0m\n\u001b[0m\u001b[0;32m    686\u001b[0m \u001b[1;33m\u001b[0m\u001b[0m\n\u001b[0;32m    687\u001b[0m     \u001b[0mparser_f\u001b[0m\u001b[1;33m.\u001b[0m\u001b[0m__name__\u001b[0m \u001b[1;33m=\u001b[0m \u001b[0mname\u001b[0m\u001b[1;33m\u001b[0m\u001b[1;33m\u001b[0m\u001b[0m\n",
      "\u001b[1;32m~\\Anaconda3\\lib\\site-packages\\pandas\\io\\parsers.py\u001b[0m in \u001b[0;36m_read\u001b[1;34m(filepath_or_buffer, kwds)\u001b[0m\n\u001b[0;32m    455\u001b[0m \u001b[1;33m\u001b[0m\u001b[0m\n\u001b[0;32m    456\u001b[0m     \u001b[1;31m# Create the parser.\u001b[0m\u001b[1;33m\u001b[0m\u001b[1;33m\u001b[0m\u001b[1;33m\u001b[0m\u001b[0m\n\u001b[1;32m--> 457\u001b[1;33m     \u001b[0mparser\u001b[0m \u001b[1;33m=\u001b[0m \u001b[0mTextFileReader\u001b[0m\u001b[1;33m(\u001b[0m\u001b[0mfp_or_buf\u001b[0m\u001b[1;33m,\u001b[0m \u001b[1;33m**\u001b[0m\u001b[0mkwds\u001b[0m\u001b[1;33m)\u001b[0m\u001b[1;33m\u001b[0m\u001b[1;33m\u001b[0m\u001b[0m\n\u001b[0m\u001b[0;32m    458\u001b[0m \u001b[1;33m\u001b[0m\u001b[0m\n\u001b[0;32m    459\u001b[0m     \u001b[1;32mif\u001b[0m \u001b[0mchunksize\u001b[0m \u001b[1;32mor\u001b[0m \u001b[0miterator\u001b[0m\u001b[1;33m:\u001b[0m\u001b[1;33m\u001b[0m\u001b[1;33m\u001b[0m\u001b[0m\n",
      "\u001b[1;32m~\\Anaconda3\\lib\\site-packages\\pandas\\io\\parsers.py\u001b[0m in \u001b[0;36m__init__\u001b[1;34m(self, f, engine, **kwds)\u001b[0m\n\u001b[0;32m    893\u001b[0m             \u001b[0mself\u001b[0m\u001b[1;33m.\u001b[0m\u001b[0moptions\u001b[0m\u001b[1;33m[\u001b[0m\u001b[1;34m\"has_index_names\"\u001b[0m\u001b[1;33m]\u001b[0m \u001b[1;33m=\u001b[0m \u001b[0mkwds\u001b[0m\u001b[1;33m[\u001b[0m\u001b[1;34m\"has_index_names\"\u001b[0m\u001b[1;33m]\u001b[0m\u001b[1;33m\u001b[0m\u001b[1;33m\u001b[0m\u001b[0m\n\u001b[0;32m    894\u001b[0m \u001b[1;33m\u001b[0m\u001b[0m\n\u001b[1;32m--> 895\u001b[1;33m         \u001b[0mself\u001b[0m\u001b[1;33m.\u001b[0m\u001b[0m_make_engine\u001b[0m\u001b[1;33m(\u001b[0m\u001b[0mself\u001b[0m\u001b[1;33m.\u001b[0m\u001b[0mengine\u001b[0m\u001b[1;33m)\u001b[0m\u001b[1;33m\u001b[0m\u001b[1;33m\u001b[0m\u001b[0m\n\u001b[0m\u001b[0;32m    896\u001b[0m \u001b[1;33m\u001b[0m\u001b[0m\n\u001b[0;32m    897\u001b[0m     \u001b[1;32mdef\u001b[0m \u001b[0mclose\u001b[0m\u001b[1;33m(\u001b[0m\u001b[0mself\u001b[0m\u001b[1;33m)\u001b[0m\u001b[1;33m:\u001b[0m\u001b[1;33m\u001b[0m\u001b[1;33m\u001b[0m\u001b[0m\n",
      "\u001b[1;32m~\\Anaconda3\\lib\\site-packages\\pandas\\io\\parsers.py\u001b[0m in \u001b[0;36m_make_engine\u001b[1;34m(self, engine)\u001b[0m\n\u001b[0;32m   1133\u001b[0m     \u001b[1;32mdef\u001b[0m \u001b[0m_make_engine\u001b[0m\u001b[1;33m(\u001b[0m\u001b[0mself\u001b[0m\u001b[1;33m,\u001b[0m \u001b[0mengine\u001b[0m\u001b[1;33m=\u001b[0m\u001b[1;34m\"c\"\u001b[0m\u001b[1;33m)\u001b[0m\u001b[1;33m:\u001b[0m\u001b[1;33m\u001b[0m\u001b[1;33m\u001b[0m\u001b[0m\n\u001b[0;32m   1134\u001b[0m         \u001b[1;32mif\u001b[0m \u001b[0mengine\u001b[0m \u001b[1;33m==\u001b[0m \u001b[1;34m\"c\"\u001b[0m\u001b[1;33m:\u001b[0m\u001b[1;33m\u001b[0m\u001b[1;33m\u001b[0m\u001b[0m\n\u001b[1;32m-> 1135\u001b[1;33m             \u001b[0mself\u001b[0m\u001b[1;33m.\u001b[0m\u001b[0m_engine\u001b[0m \u001b[1;33m=\u001b[0m \u001b[0mCParserWrapper\u001b[0m\u001b[1;33m(\u001b[0m\u001b[0mself\u001b[0m\u001b[1;33m.\u001b[0m\u001b[0mf\u001b[0m\u001b[1;33m,\u001b[0m \u001b[1;33m**\u001b[0m\u001b[0mself\u001b[0m\u001b[1;33m.\u001b[0m\u001b[0moptions\u001b[0m\u001b[1;33m)\u001b[0m\u001b[1;33m\u001b[0m\u001b[1;33m\u001b[0m\u001b[0m\n\u001b[0m\u001b[0;32m   1136\u001b[0m         \u001b[1;32melse\u001b[0m\u001b[1;33m:\u001b[0m\u001b[1;33m\u001b[0m\u001b[1;33m\u001b[0m\u001b[0m\n\u001b[0;32m   1137\u001b[0m             \u001b[1;32mif\u001b[0m \u001b[0mengine\u001b[0m \u001b[1;33m==\u001b[0m \u001b[1;34m\"python\"\u001b[0m\u001b[1;33m:\u001b[0m\u001b[1;33m\u001b[0m\u001b[1;33m\u001b[0m\u001b[0m\n",
      "\u001b[1;32m~\\Anaconda3\\lib\\site-packages\\pandas\\io\\parsers.py\u001b[0m in \u001b[0;36m__init__\u001b[1;34m(self, src, **kwds)\u001b[0m\n\u001b[0;32m   1915\u001b[0m         \u001b[0mkwds\u001b[0m\u001b[1;33m[\u001b[0m\u001b[1;34m\"usecols\"\u001b[0m\u001b[1;33m]\u001b[0m \u001b[1;33m=\u001b[0m \u001b[0mself\u001b[0m\u001b[1;33m.\u001b[0m\u001b[0musecols\u001b[0m\u001b[1;33m\u001b[0m\u001b[1;33m\u001b[0m\u001b[0m\n\u001b[0;32m   1916\u001b[0m \u001b[1;33m\u001b[0m\u001b[0m\n\u001b[1;32m-> 1917\u001b[1;33m         \u001b[0mself\u001b[0m\u001b[1;33m.\u001b[0m\u001b[0m_reader\u001b[0m \u001b[1;33m=\u001b[0m \u001b[0mparsers\u001b[0m\u001b[1;33m.\u001b[0m\u001b[0mTextReader\u001b[0m\u001b[1;33m(\u001b[0m\u001b[0msrc\u001b[0m\u001b[1;33m,\u001b[0m \u001b[1;33m**\u001b[0m\u001b[0mkwds\u001b[0m\u001b[1;33m)\u001b[0m\u001b[1;33m\u001b[0m\u001b[1;33m\u001b[0m\u001b[0m\n\u001b[0m\u001b[0;32m   1918\u001b[0m         \u001b[0mself\u001b[0m\u001b[1;33m.\u001b[0m\u001b[0munnamed_cols\u001b[0m \u001b[1;33m=\u001b[0m \u001b[0mself\u001b[0m\u001b[1;33m.\u001b[0m\u001b[0m_reader\u001b[0m\u001b[1;33m.\u001b[0m\u001b[0munnamed_cols\u001b[0m\u001b[1;33m\u001b[0m\u001b[1;33m\u001b[0m\u001b[0m\n\u001b[0;32m   1919\u001b[0m \u001b[1;33m\u001b[0m\u001b[0m\n",
      "\u001b[1;32mpandas\\_libs\\parsers.pyx\u001b[0m in \u001b[0;36mpandas._libs.parsers.TextReader.__cinit__\u001b[1;34m()\u001b[0m\n",
      "\u001b[1;32mpandas\\_libs\\parsers.pyx\u001b[0m in \u001b[0;36mpandas._libs.parsers.TextReader._setup_parser_source\u001b[1;34m()\u001b[0m\n",
      "\u001b[1;31mFileNotFoundError\u001b[0m: [Errno 2] File b'rg_train.csv' does not exist: b'rg_train.csv'"
     ]
    }
   ],
   "source": [
    "train_file=r'rg_train.csv'\n",
    "test_file=r'rg_test.csv'\n",
    "bd_train=pd.read_csv(train_file)\n",
    "\n",
    "bd_test=pd.read_csv(test_file)\n",
    "\n",
    "\n",
    "bd_test['Revenue.Grid']=np.nan\n",
    "bd_train['data']='train'\n",
    "bd_test['data']='test'\n",
    "bd_test=bd_test[bd_train.columns]\n",
    "bd_all=pd.concat([bd_train,bd_test],axis=0)"
   ]
  },
  {
   "cell_type": "code",
   "execution_count": null,
   "metadata": {},
   "outputs": [],
   "source": [
    "bd_all.head()"
   ]
  },
  {
   "cell_type": "code",
   "execution_count": null,
   "metadata": {},
   "outputs": [],
   "source": [
    "bd_all['Revenue.Grid'].value_counts()"
   ]
  },
  {
   "cell_type": "code",
   "execution_count": null,
   "metadata": {},
   "outputs": [],
   "source": [
    "list(zip(bd_all.columns,bd_all.dtypes,bd_all.nunique()))"
   ]
  },
  {
   "cell_type": "code",
   "execution_count": null,
   "metadata": {},
   "outputs": [],
   "source": [
    "# REF_NO,post_code , post_area  : drop \n",
    "# children : Zero : 0 , 4+ : 4 and then convert to numeric\n",
    "# age_band : dummies \n",
    "# status , occupation , occupation_partner , home_status,family_income : dummies\n",
    "# self_employed, ` : dummies\n",
    "# TVArea , Region , gender : dummies\n",
    "# Revenue Grid : 1,2 : 1,0"
   ]
  },
  {
   "cell_type": "code",
   "execution_count": null,
   "metadata": {},
   "outputs": [],
   "source": [
    "# REF_NO,post_code , post_area  : drop\n",
    "bd_all.drop(['REF_NO','post_code','post_area'],axis=1,inplace=True)"
   ]
  },
  {
   "cell_type": "code",
   "execution_count": null,
   "metadata": {},
   "outputs": [],
   "source": [
    "# children : Zero : 0 , 4+ : 4 and then convert to numeric\n",
    "bd_all['children']=np.where(bd_all['children']=='Zero',0,bd_all['children'])\n",
    "bd_all['children']=np.where(bd_all['children'][:1]=='4',4,bd_all['children'])\n",
    "bd_all['children']=pd.to_numeric(bd_all['children'],errors='coerce')"
   ]
  },
  {
   "cell_type": "code",
   "execution_count": null,
   "metadata": {},
   "outputs": [],
   "source": [
    "# Output variable classes 0 and 1\n",
    "bd_all['Revenue.Grid']=(bd_all['Revenue.Grid']==1).astype(int)"
   ]
  },
  {
   "cell_type": "code",
   "execution_count": null,
   "metadata": {},
   "outputs": [],
   "source": [
    "# Selecting the columns based upon its type\n",
    "cat_vars=bd_all.select_dtypes(['object']).columns\n",
    "\n",
    "cat_vars"
   ]
  },
  {
   "cell_type": "code",
   "execution_count": null,
   "metadata": {},
   "outputs": [],
   "source": [
    "# Creating a dummy variables\n",
    "for col in cat_vars[:-1]:\n",
    "    dummy=pd.get_dummies(bd_all[col],drop_first=True,prefix=col)\n",
    "    bd_all=pd.concat([bd_all,dummy],axis=1)\n",
    "    del bd_all[col]\n",
    "    print(col)\n",
    "del dummy"
   ]
  },
  {
   "cell_type": "code",
   "execution_count": null,
   "metadata": {},
   "outputs": [],
   "source": [
    "bd_all.shape"
   ]
  },
  {
   "cell_type": "code",
   "execution_count": null,
   "metadata": {},
   "outputs": [],
   "source": [
    "bd_all.isnull().sum()"
   ]
  },
  {
   "cell_type": "code",
   "execution_count": null,
   "metadata": {},
   "outputs": [],
   "source": [
    "# immputing with mean value\n",
    "\n",
    "bd_all.loc[bd_all['children'].isnull(),'children']=bd_all.loc[bd_all['data']=='train','children'].mean()\n"
   ]
  },
  {
   "cell_type": "code",
   "execution_count": null,
   "metadata": {},
   "outputs": [],
   "source": [
    "# Finally Train and Test Data is ready\n",
    "bd_train=bd_all[bd_all['data']=='train']\n",
    "del bd_train['data']\n",
    "bd_test=bd_all[bd_all['data']=='test']\n",
    "bd_test.drop(['Revenue.Grid','data'],axis=1,inplace=True)"
   ]
  },
  {
   "cell_type": "code",
   "execution_count": null,
   "metadata": {},
   "outputs": [],
   "source": [
    "from sklearn.linear_model import LogisticRegression\n",
    "from sklearn.metrics import roc_auc_score\n",
    "from sklearn.model_selection import GridSearchCV"
   ]
  },
  {
   "cell_type": "code",
   "execution_count": null,
   "metadata": {},
   "outputs": [],
   "source": [
    "params={'class_weight':['balanced',None],\n",
    "        'penalty':['l1','l2'],\n",
    "        'C':np.linspace(0.01,1000,10)}"
   ]
  },
  {
   "cell_type": "code",
   "execution_count": null,
   "metadata": {},
   "outputs": [],
   "source": [
    "model=LogisticRegression(fit_intercept=True)"
   ]
  },
  {
   "cell_type": "code",
   "execution_count": null,
   "metadata": {},
   "outputs": [],
   "source": [
    "grid_search=GridSearchCV(model,param_grid=params,cv=5,scoring=\"roc_auc\")"
   ]
  },
  {
   "cell_type": "code",
   "execution_count": null,
   "metadata": {},
   "outputs": [],
   "source": [
    "x_train=bd_train.drop('Revenue.Grid',axis=1)\n",
    "y_train=bd_train['Revenue.Grid']"
   ]
  },
  {
   "cell_type": "code",
   "execution_count": null,
   "metadata": {},
   "outputs": [],
   "source": [
    "grid_search.fit(x_train,y_train)"
   ]
  },
  {
   "cell_type": "code",
   "execution_count": null,
   "metadata": {},
   "outputs": [],
   "source": [
    "grid_search.best_estimator_"
   ]
  },
  {
   "cell_type": "code",
   "execution_count": null,
   "metadata": {},
   "outputs": [],
   "source": [
    "logr=grid_search.best_estimator_"
   ]
  },
  {
   "cell_type": "code",
   "execution_count": null,
   "metadata": {},
   "outputs": [],
   "source": [
    "def report(results, n_top=3):\n",
    "    for i in range(1, n_top + 1):\n",
    "        candidates = np.flatnonzero(results['rank_test_score'] == i)\n",
    "        for candidate in candidates:\n",
    "            print(\"Model with rank: {0}\".format(i))\n",
    "            print(\"Mean validation score: {0:.3f} (std: {1:.3f})\".format(\n",
    "                  results['mean_test_score'][candidate],\n",
    "                  results['std_test_score'][candidate]))\n",
    "            print(\"Parameters: {0}\".format(results['params'][candidate]))\n",
    "            print(\"\")"
   ]
  },
  {
   "cell_type": "code",
   "execution_count": null,
   "metadata": {},
   "outputs": [],
   "source": [
    "report(grid_search.cv_results_,5)\n",
    "### grid_search.predict_proba(x_train)-logr.predict_proba(x_train)"
   ]
  },
  {
   "cell_type": "code",
   "execution_count": null,
   "metadata": {},
   "outputs": [],
   "source": [
    "logr.fit(x_train,y_train)"
   ]
  },
  {
   "cell_type": "code",
   "execution_count": null,
   "metadata": {},
   "outputs": [],
   "source": [
    "cutoffs=np.linspace(0.01,0.99,99)\n",
    "\n",
    "cutoffs"
   ]
  },
  {
   "cell_type": "code",
   "execution_count": null,
   "metadata": {},
   "outputs": [],
   "source": [
    "print(logr.predict_proba(x_train)) # Probability of both Classes , for each observations\n",
    "logr.classes_"
   ]
  },
  {
   "cell_type": "code",
   "execution_count": null,
   "metadata": {},
   "outputs": [],
   "source": [
    "# logr.predict_proba(x_train)[:,1]\n",
    "train_score=logr.predict_proba(x_train)[:,1]\n",
    "\n",
    "real=y_train"
   ]
  },
  {
   "cell_type": "code",
   "execution_count": null,
   "metadata": {},
   "outputs": [],
   "source": [
    "train_score>0.2"
   ]
  },
  {
   "cell_type": "code",
   "execution_count": null,
   "metadata": {},
   "outputs": [],
   "source": [
    "KS_all=[]\n",
    "\n",
    "for cutoff in cutoffs:\n",
    "    \n",
    "    predicted=(train_score>cutoff).astype(int)\n",
    "\n",
    "    TP=((predicted==1) & (real==1)).sum()\n",
    "    TN=((predicted==0) & (real==0)).sum()\n",
    "    FP=((predicted==1) & (real==0)).sum()\n",
    "    FN=((predicted==0) & (real==1)).sum()\n",
    "    \n",
    "    P=TP+FN\n",
    "    N=TN+FP\n",
    "      \n",
    "    KS=(TP/P)-(FP/N)\n",
    "    \n",
    "    \n",
    "    KS_all.append(KS)\n",
    "\n",
    "# try out what cutoffs you get when you use F_beta scores with different values of betas [0.5 , 5]\n",
    "# beta < 1 : you will get cutoff , which is high ( favours precision)\n",
    "# beta > 1 : you will get cutoff , which is low (favours precision )"
   ]
  },
  {
   "cell_type": "code",
   "execution_count": null,
   "metadata": {},
   "outputs": [],
   "source": [
    "# print(cutoffs[KS_all==max(KS_all)].shape)\n",
    "# type(cutoffs[KS_all==max(KS_all)][0])\n",
    "mycutoff=cutoffs[KS_all==max(KS_all)][0]\n",
    "mycutoff"
   ]
  },
  {
   "cell_type": "code",
   "execution_count": null,
   "metadata": {},
   "outputs": [],
   "source": [
    "logr.intercept_"
   ]
  },
  {
   "cell_type": "code",
   "execution_count": null,
   "metadata": {},
   "outputs": [],
   "source": [
    "logr.coef_[0]"
   ]
  },
  {
   "cell_type": "code",
   "execution_count": null,
   "metadata": {},
   "outputs": [],
   "source": [
    "x_train.columns.shape"
   ]
  },
  {
   "cell_type": "code",
   "execution_count": null,
   "metadata": {},
   "outputs": [],
   "source": [
    "list(zip(x_train.columns,logr.coef_[0]))"
   ]
  },
  {
   "cell_type": "markdown",
   "metadata": {},
   "source": [
    "if you simply had to submit probability scores , you could do this "
   ]
  },
  {
   "cell_type": "code",
   "execution_count": null,
   "metadata": {},
   "outputs": [],
   "source": [
    "test_score=logr.predict_proba(bd_test)[:,1]\n",
    "pd.DataFrame(test_score).to_csv(\"mysubmission.csv\",index=False)"
   ]
  },
  {
   "cell_type": "code",
   "execution_count": null,
   "metadata": {},
   "outputs": [],
   "source": [
    "test_score"
   ]
  },
  {
   "cell_type": "markdown",
   "metadata": {},
   "source": [
    "if you had to submit hardclasses , you can apply the cutoff obtained above and then submit"
   ]
  },
  {
   "cell_type": "code",
   "execution_count": null,
   "metadata": {},
   "outputs": [],
   "source": [
    "test_classes=(test_score>mycutoff).astype(int)"
   ]
  },
  {
   "cell_type": "code",
   "execution_count": null,
   "metadata": {},
   "outputs": [],
   "source": [
    "pd.DataFrame(test_classes).to_csv(\"mysubmission.csv\",index=False)"
   ]
  },
  {
   "cell_type": "code",
   "execution_count": null,
   "metadata": {},
   "outputs": [],
   "source": [
    "# # ROC AUC Curve\n",
    "# import scikitplot as skplt\n",
    "# import matplotlib.pyplot as plt\n",
    "\n",
    "# y_true = # ground truth labels\n",
    "# y_probas = # predicted probabilities generated by sklearn classifier\n",
    "# skplt.metrics.plot_roc_curve(y_true, y_probas)\n",
    "# plt.show()\n",
    "\n",
    "\n",
    "# ## # score model performance on the test data\n",
    "# roc_auc_score(y_test,logr.predict(x_test))"
   ]
  }
 ],
 "metadata": {
  "kernelspec": {
   "display_name": "Python 3",
   "language": "python",
   "name": "python3"
  },
  "language_info": {
   "codemirror_mode": {
    "name": "ipython",
    "version": 3
   },
   "file_extension": ".py",
   "mimetype": "text/x-python",
   "name": "python",
   "nbconvert_exporter": "python",
   "pygments_lexer": "ipython3",
   "version": "3.7.4"
  },
  "toc": {
   "base_numbering": 1,
   "nav_menu": {},
   "number_sections": true,
   "sideBar": true,
   "skip_h1_title": false,
   "title_cell": "Table of Contents",
   "title_sidebar": "Contents",
   "toc_cell": false,
   "toc_position": {},
   "toc_section_display": true,
   "toc_window_display": false
  }
 },
 "nbformat": 4,
 "nbformat_minor": 2
}
